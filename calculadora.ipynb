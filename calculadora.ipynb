{
  "nbformat": 4,
  "nbformat_minor": 0,
  "metadata": {
    "colab": {
      "name": "calculadora.ipynb",
      "provenance": [],
      "collapsed_sections": [],
      "authorship_tag": "ABX9TyNJVSwagGkDfPhOmmOz2KZX",
      "include_colab_link": true
    },
    "kernelspec": {
      "name": "python3",
      "display_name": "Python 3"
    }
  },
  "cells": [
    {
      "cell_type": "markdown",
      "metadata": {
        "id": "view-in-github",
        "colab_type": "text"
      },
      "source": [
        "<a href=\"https://colab.research.google.com/github/Jnfagundes/estudoproj/blob/master/calculadora.ipynb\" target=\"_parent\"><img src=\"https://colab.research.google.com/assets/colab-badge.svg\" alt=\"Open In Colab\"/></a>"
      ]
    },
    {
      "cell_type": "code",
      "metadata": {
        "id": "b2VCWsUdHFxa",
        "colab": {
          "base_uri": "https://localhost:8080/"
        },
        "outputId": "46ea7bfb-2e6f-4e40-fee0-ac6b6ea99319"
      },
      "source": [
        "print(\"calculadora de teste para treinamento em python \\n\\n\") # criação do título\n",
        "\n",
        "num1 = int(input(\"Digite um número: \")) # declaração da primeira variável com indicação do usuário\n",
        "num2 = int(input(\"Digite o segundo número: \")) # declaração da segunda variável com indicação do usuário\n",
        "\n",
        "print(\"Digite uma das opções: soma, subtracao, multiplicacao ou divisao\") # mensagem para o usuário\n",
        "\n",
        "operacao = str(input(\"Escolha qual operação deseja fazer: \"))# declaração da treceira variável com indicação do usuário\n",
        "adicao = num1+num2 # variável criada pelo programador\n",
        "menos = num1-num2 # variável criada pelo programador\n",
        "vezes = num1*num2 # variável criada pelo programador\n",
        "dividir = num1/num2 # variável criada pelo programador\n",
        "\n",
        "# criação da condicional\n",
        "if operacao ==\"soma\": \n",
        "  print(f\"O resultado da soma é: \", adicao )\n",
        "elif operacao ==\"subtracao\":\n",
        "  print(f\"O resultado da subtração é: \", menos )\n",
        "elif operacao == \"multiplicacao\":\n",
        "  print(f\"O resultado da multilicação  é: \", vezes )\n",
        "elif operacao == \"divisao\":\n",
        "  print(f\"O resultado da divisão é: \", dividir )\n",
        "else:\n",
        "  print(\"Digite uma opção válida\")\n",
        "\n",
        "\n"
      ],
      "execution_count": null,
      "outputs": [
        {
          "output_type": "stream",
          "text": [
            "calculadora de teste para treinamento em python \n",
            "\n",
            "\n",
            "Digite um número: 52\n",
            "Digite o segundo número: 300\n",
            "Digite uma das opções: soma, subtracao, multiplicacao ou divisao\n",
            "Escolha qual operação deseja fazer: multiplicacao\n",
            "O resultado da multilicação  é:  15600\n"
          ],
          "name": "stdout"
        }
      ]
    }
  ]
}