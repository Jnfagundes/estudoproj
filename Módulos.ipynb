{
  "nbformat": 4,
  "nbformat_minor": 0,
  "metadata": {
    "colab": {
      "name": "Módulos.ipynb",
      "provenance": [],
      "authorship_tag": "ABX9TyNKhjzOPqlOOM7GWDJv8DEO",
      "include_colab_link": true
    },
    "kernelspec": {
      "name": "python3",
      "display_name": "Python 3"
    },
    "language_info": {
      "name": "python"
    }
  },
  "cells": [
    {
      "cell_type": "markdown",
      "metadata": {
        "id": "view-in-github",
        "colab_type": "text"
      },
      "source": [
        "<a href=\"https://colab.research.google.com/github/Jnfagundes/estudoproj/blob/master/M%C3%B3dulos.ipynb\" target=\"_parent\"><img src=\"https://colab.research.google.com/assets/colab-badge.svg\" alt=\"Open In Colab\"/></a>"
      ]
    },
    {
      "cell_type": "code",
      "metadata": {
        "colab": {
          "base_uri": "https://localhost:8080/"
        },
        "id": "ZoqTWeXsorTv",
        "outputId": "7c7d689a-a593-457b-ce81-95b292fc026c"
      },
      "source": [
        "print('Trabalhando com módulos')\n",
        "print('-+-'*30)\n"
      ],
      "execution_count": 2,
      "outputs": [
        {
          "output_type": "stream",
          "name": "stdout",
          "text": [
            "Trabalhando com módulos\n",
            "-+--+--+--+--+--+--+--+--+--+--+--+--+--+--+--+--+--+--+--+--+--+--+--+--+--+--+--+--+--+-\n"
          ]
        }
      ]
    },
    {
      "cell_type": "code",
      "metadata": {
        "colab": {
          "base_uri": "https://localhost:8080/"
        },
        "id": "yLjz1ipIpH72",
        "outputId": "13f90bfb-8f83-40a2-8ef0-76ab434d317e"
      },
      "source": [
        "import math  #Aqui estamos importando todas as funcionalidades da biblioteca\n",
        "print(math.sqrt(25))\n",
        "print(math.log2(1024))\n",
        "print(math.cos(45))\n"
      ],
      "execution_count": 6,
      "outputs": [
        {
          "output_type": "stream",
          "name": "stdout",
          "text": [
            "5.0\n",
            "10.0\n",
            "0.5253219888177297\n"
          ]
        }
      ]
    },
    {
      "cell_type": "code",
      "metadata": {
        "colab": {
          "base_uri": "https://localhost:8080/"
        },
        "id": "z4PhIWR9qBbG",
        "outputId": "52231489-1f1b-4b24-b0e0-7f342bb865e0"
      },
      "source": [
        "from math import sqrt, log2, cos # Aqui estamos importando as funcionalidades específicas da biblioteca\n",
        "print(sqrt(25))\n",
        "print(log2(1024))\n",
        "print(cos(45))"
      ],
      "execution_count": 9,
      "outputs": [
        {
          "output_type": "stream",
          "name": "stdout",
          "text": [
            "5.0\n",
            "10.0\n",
            "0.5253219888177297\n"
          ]
        }
      ]
    }
  ]
}