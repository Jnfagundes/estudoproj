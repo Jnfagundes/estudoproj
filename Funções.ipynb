{
  "nbformat": 4,
  "nbformat_minor": 0,
  "metadata": {
    "colab": {
      "name": "Funções.ipynb",
      "provenance": [],
      "collapsed_sections": [],
      "authorship_tag": "ABX9TyP3HtDyXUoiS82m2bhm27DK",
      "include_colab_link": true
    },
    "kernelspec": {
      "name": "python3",
      "display_name": "Python 3"
    }
  },
  "cells": [
    {
      "cell_type": "markdown",
      "metadata": {
        "id": "view-in-github",
        "colab_type": "text"
      },
      "source": [
        "<a href=\"https://colab.research.google.com/github/Jnfagundes/estudoproj/blob/master/Fun%C3%A7%C3%B5es.ipynb\" target=\"_parent\"><img src=\"https://colab.research.google.com/assets/colab-badge.svg\" alt=\"Open In Colab\"/></a>"
      ]
    },
    {
      "cell_type": "code",
      "metadata": {
        "colab": {
          "base_uri": "https://localhost:8080/"
        },
        "id": "4cvfvsuTNr04",
        "outputId": "3cd7c1e9-66cc-467a-836a-206c9c205e5a"
      },
      "source": [
        "print('  <<<<<<<< Funções >>>>>>>>')\n",
        "def soma(a, b): # Aqui temos dois parâmetros\n",
        "  print(f'A = {a} e B = {b}')  \n",
        "  s = a + b\n",
        "  print(f'A soma de A + B = {s}')\n",
        "soma(2, 8)\n",
        "soma(10, 50)\n"
      ],
      "execution_count": null,
      "outputs": [
        {
          "output_type": "stream",
          "text": [
            "  <<<<<<<< Funções >>>>>>>>\n",
            "A = 2 e B = 8\n",
            "A soma de A + B = 10\n",
            "A = 10 e B = 50\n",
            "A soma de A + B = 60\n"
          ],
          "name": "stdout"
        }
      ]
    },
    {
      "cell_type": "code",
      "metadata": {
        "colab": {
          "base_uri": "https://localhost:8080/"
        },
        "id": "LJQDLMQs_10z",
        "outputId": "389bd073-744d-4db4-a3ce-80074a21a498"
      },
      "source": [
        "def contador(*num):\n",
        "  for valor in num:\n",
        "    print(f'{valor} ', end='')\n",
        "  print('FIM!')\n",
        "contador(2, 3, 7, 8)  \n",
        "contador(7, 9, 10, 23, 56, 78)\n"
      ],
      "execution_count": null,
      "outputs": [
        {
          "output_type": "stream",
          "text": [
            "2 3 7 8 FIM!\n",
            "7 9 10 23 56 78 FIM!\n"
          ],
          "name": "stdout"
        }
      ]
    },
    {
      "cell_type": "code",
      "metadata": {
        "colab": {
          "base_uri": "https://localhost:8080/"
        },
        "id": "rC2y3vreAt8s",
        "outputId": "5d9ac95f-78e4-448a-abbc-25e061c970f7"
      },
      "source": [
        "def contador(*num):\n",
        "  tam = len(num)\n",
        "  print(f'Recebi os valores {num} e são ao todo {tam} números')\n",
        "contador(11, 22, 33, 44, 55, 66, 77, 88, 99)\n"
      ],
      "execution_count": null,
      "outputs": [
        {
          "output_type": "stream",
          "text": [
            "Recebi os valores (11, 22, 33, 44, 55, 66, 77, 88, 99) e são ao todo 9 números\n"
          ],
          "name": "stdout"
        }
      ]
    },
    {
      "cell_type": "code",
      "metadata": {
        "colab": {
          "base_uri": "https://localhost:8080/"
        },
        "id": "5V7cH-ZsBZ_E",
        "outputId": "e9d42561-6a28-4ec6-af88-feb6e72bd719"
      },
      "source": [
        "def dobra(l):\n",
        "  pos = 0\n",
        "  while pos < len(l):\n",
        "    l[pos] *= 2\n",
        "    pos += 1\n",
        "\n",
        "valores = [2, 4, 5, 9, 6, 7]\n",
        "dobra(valores)\n",
        "print(valores)\n",
        "    "
      ],
      "execution_count": null,
      "outputs": [
        {
          "output_type": "stream",
          "text": [
            "[4, 8, 10, 18, 12, 14]\n"
          ],
          "name": "stdout"
        }
      ]
    },
    {
      "cell_type": "code",
      "metadata": {
        "colab": {
          "base_uri": "https://localhost:8080/"
        },
        "id": "xJck9XSuC2Dy",
        "outputId": "6ab8dbe7-955d-4bcf-f824-47dc65f44c91"
      },
      "source": [
        "def soma(*valores):\n",
        "  s = 0\n",
        "  for num in valores:\n",
        "    s += num\n",
        "  print(f'Somando os valores {valores} temos: {s}')\n",
        "soma(5, 2)\n",
        "soma(4,6,9,1)\n"
      ],
      "execution_count": null,
      "outputs": [
        {
          "output_type": "stream",
          "text": [
            "Somando os valores (5, 2) temos: 7\n",
            "Somando os valores (4, 6, 9, 1) temos: 20\n"
          ],
          "name": "stdout"
        }
      ]
    },
    {
      "cell_type": "code",
      "metadata": {
        "colab": {
          "base_uri": "https://localhost:8080/"
        },
        "id": "W2zZrqe5wk6M",
        "outputId": "de5353e4-7421-4315-b7db-6d6da4acefa9"
      },
      "source": [
        "print('====== Exercício 96 ======')\n",
        "def área(b, h):\n",
        "  a = b * h\n",
        "  print(f'A área do terreno é de {a}m²')\n",
        "print('-='*30)\n",
        "print('     <<<<<< Área de um terreno >>>>>>')\n",
        "frente = float(input('Digite a frente do terreno: '))\n",
        "fundo = float(input('Digite a distância da frente para o fundo do terreno: '))\n",
        "área(frente, fundo)\n"
      ],
      "execution_count": null,
      "outputs": [
        {
          "output_type": "stream",
          "text": [
            "====== Exercício 96 ======\n",
            "-=-=-=-=-=-=-=-=-=-=-=-=-=-=-=-=-=-=-=-=-=-=-=-=-=-=-=-=-=-=\n",
            "     <<<<<< Área de um terreno >>>>>>\n",
            "Digite a frente do terreno: 10\n",
            "Digite a distância da frente para o fundo do terreno: 20\n",
            "A área do terreno é de 200.0m²\n"
          ],
          "name": "stdout"
        }
      ]
    },
    {
      "cell_type": "code",
      "metadata": {
        "colab": {
          "base_uri": "https://localhost:8080/"
        },
        "id": "dJHMzCCu4qFI",
        "outputId": "4aa0cee7-121c-4d6f-e6f0-e44742fe0646"
      },
      "source": [
        "print('====== Exercício 97 ======')\n",
        "def escreva(msg):\n",
        "  tam = len(msg) + 4\n",
        "  print('~'*tam)\n",
        "  print(f'  {msg}')\n",
        "  print('~'* tam)\n",
        "print('-='*30)\n",
        "print('Escreva sua mensagem:') \n",
        "m = str(input('Digite o seu texto: ')) \n",
        "escreva(m)\n"
      ],
      "execution_count": null,
      "outputs": [
        {
          "output_type": "stream",
          "text": [
            "====== Exercício 97 ======\n",
            "-=-=-=-=-=-=-=-=-=-=-=-=-=-=-=-=-=-=-=-=-=-=-=-=-=-=-=-=-=-=\n",
            "Escreva sua mensagem:\n",
            "Digite o seu texto: oi\n",
            "~~~~~~\n",
            "  oi\n",
            "~~~~~~\n"
          ],
          "name": "stdout"
        }
      ]
    },
    {
      "cell_type": "code",
      "metadata": {
        "colab": {
          "base_uri": "https://localhost:8080/"
        },
        "id": "Kvg0SDxJGnAO",
        "outputId": "45144c8b-b186-4b7c-e40c-45521bc9f4f1"
      },
      "source": [
        "from time import sleep\n",
        "print('====== Exercício 98 ======')\n",
        "def contador(i, f, p):\n",
        "    print(f'Contagem de {i} até o {f} de {p} em {p}')\n",
        "    if p < 0:\n",
        "      p *= -1\n",
        "    if p == 0:\n",
        "      p += 1\n",
        "    if i < f:\n",
        "      cont = i\n",
        "      while cont <= f:\n",
        "        print(f'{cont} ',end='')\n",
        "        sleep(1)\n",
        "        cont += p\n",
        "      print('FIM')\n",
        "      print('-'*30)\n",
        "    else:\n",
        "      cont = i\n",
        "      while cont >= f:\n",
        "        print(f'{cont} ',end=' ')\n",
        "        sleep(1)\n",
        "        cont -=  p\n",
        "      print('FIM') \n",
        "      print('-'*30)  \n",
        "contador(1, 10, 1)\n",
        "contador(10, 0, 2)  \n",
        "print('-'*30)\n",
        "print('Agora é sua vez:')\n",
        "print('-'*30)\n",
        "ini = int(input('Digite um valor para começar a contagem: '))\n",
        "fim = int(input('Um valor para terminar a contagem:       '))\n",
        "pa = int(input('Um valor para definir o passo:            '))\n",
        "print('-'*30)\n",
        "contador(ini, fim, pa)\n"
      ],
      "execution_count": null,
      "outputs": [
        {
          "output_type": "stream",
          "text": [
            "====== Exercício 98 ======\n",
            "Contagem de 1 até o 10 de 1 em 1\n",
            "1 2 3 4 5 6 7 8 9 10 FIM\n",
            "------------------------------\n",
            "Contagem de 10 até o 0 de 2 em 2\n",
            "10  8  6  4  2  0  FIM\n",
            "------------------------------\n",
            "------------------------------\n",
            "Agora é sua vez:\n",
            "------------------------------\n",
            "Digite um valor para começar a contagem: 1\n",
            "Um valor para terminar a contagem:       100\n",
            "Um valor para definir o passo:            10\n",
            "------------------------------\n",
            "Contagem de 1 até o 100 de 10 em 10\n",
            "1 11 21 31 41 51 61 71 81 91 FIM\n",
            "------------------------------\n"
          ],
          "name": "stdout"
        }
      ]
    },
    {
      "cell_type": "code",
      "metadata": {
        "colab": {
          "base_uri": "https://localhost:8080/"
        },
        "id": "VyNnykTcGmYu",
        "outputId": "4b7d398c-66fa-4ac6-f962-696cb517e095"
      },
      "source": [
        "print('====== Exercício 99 ====== ')\n",
        "def maior(*valor):\n",
        "  cont = maior = 0\n",
        "  print('\\nAnalisando os valores passados:')\n",
        "  print('-'*20)\n",
        "  for n in valor:\n",
        "    print(f'{n} ', end=' ')\n",
        "    if n == 0:\n",
        "      maior = n\n",
        "    else:\n",
        "      if n > maior:\n",
        "        maior > n\n",
        "    cont += 1\n",
        "  print(f'\\nForam informados {cont} valores ao todo.')\n",
        "  print(f'\\nO maior valor informado foi {maior}')      \n",
        "  print('-'*20)\n",
        "maior(2, 4, 7, 9) \n",
        "maior(9, 1, 3, 6) \n"
      ],
      "execution_count": null,
      "outputs": [
        {
          "output_type": "stream",
          "text": [
            "====== Exercício 99 ====== \n",
            "\n",
            "Analisando os valores passados:\n",
            "--------------------\n",
            "2  4  7  9  \n",
            "Foram informados 4 valores ao todo.\n",
            "\n",
            "O maior valor informado foi 0\n",
            "--------------------\n",
            "\n",
            "Analisando os valores passados:\n",
            "--------------------\n",
            "9  1  3  6  \n",
            "Foram informados 4 valores ao todo.\n",
            "\n",
            "O maior valor informado foi 0\n",
            "--------------------\n"
          ],
          "name": "stdout"
        }
      ]
    },
    {
      "cell_type": "code",
      "metadata": {
        "colab": {
          "base_uri": "https://localhost:8080/"
        },
        "id": "-fl-EuXPdvt7",
        "outputId": "b23c817c-e1b6-4d62-ca48-e9c0b9bc64ce"
      },
      "source": [
        "from random import randint\n",
        "print('====== Exercício 100 ======')\n",
        "def sorteia(lista):\n",
        "  print('Sorteando 5 valores para a lista')\n",
        "  for cont in range(0, 5):\n",
        "    n = randint(1, 10)\n",
        "    lista.append(n)\n",
        "    print(f'{n}  ', end='')\n",
        "  print('PRONTO')\n",
        "def somaPar(lista):\n",
        "  soma = 0 \n",
        "  for valor in lista:\n",
        "    if valor % 2 == 0:\n",
        "      soma += valor\n",
        "  print(f'Somando os valores pares de {lista}, temos {soma}')    \n",
        "numeros = list()\n",
        "sorteia(numeros)\n",
        "somaPar(numeros)\n"
      ],
      "execution_count": null,
      "outputs": [
        {
          "output_type": "stream",
          "text": [
            "====== Exercício 100 ======\n",
            "Sorteando 5 valores para a lista\n",
            "9  4  5  6  4  PRONTO\n",
            "Somando os valores pares de [9, 4, 5, 6, 4], temos 14\n"
          ],
          "name": "stdout"
        }
      ]
    }
  ]
}