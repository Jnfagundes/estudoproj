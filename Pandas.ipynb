{
  "nbformat": 4,
  "nbformat_minor": 0,
  "metadata": {
    "colab": {
      "name": "Pandas.ipynb",
      "provenance": [],
      "authorship_tag": "ABX9TyPZi/OZFB+VI1cbUe3ju4F8",
      "include_colab_link": true
    },
    "kernelspec": {
      "name": "python3",
      "display_name": "Python 3"
    },
    "language_info": {
      "name": "python"
    }
  },
  "cells": [
    {
      "cell_type": "markdown",
      "metadata": {
        "id": "view-in-github",
        "colab_type": "text"
      },
      "source": [
        "<a href=\"https://colab.research.google.com/github/Jnfagundes/estudoproj/blob/master/Pandas.ipynb\" target=\"_parent\"><img src=\"https://colab.research.google.com/assets/colab-badge.svg\" alt=\"Open In Colab\"/></a>"
      ]
    },
    {
      "cell_type": "code",
      "metadata": {
        "id": "ZylBYRAq3eQ2"
      },
      "source": [
        "print('Trabalhando com biblioteca Pandas')\n",
        "! pip install pandas\n",
        "import pandas as pd\n",
        "pd.Series(data=None, index=None, dtype=None, name=None, copy=False, fastphat=False)\n",
        "pd.Series(data=5)\n",
        "pd.Series('Howard Ian Peter Jonah Kellie'.split())"
      ],
      "execution_count": null,
      "outputs": []
    },
    {
      "cell_type": "code",
      "metadata": {
        "colab": {
          "base_uri": "https://localhost:8080/",
          "height": 204
        },
        "id": "TF7-XX4XSvBd",
        "outputId": "37943705-5594-4b40-85f1-773a0d13b50b"
      },
      "source": [
        "pd.DataFrame(data=None, index=None, columns=None, dtype=None, copy=False)\n",
        "pd.DataFrame('Howard Ian Peter Jonah Kellie'.split(), columns=['nome'])"
      ],
      "execution_count": 10,
      "outputs": [
        {
          "output_type": "execute_result",
          "data": {
            "text/html": [
              "<div>\n",
              "<style scoped>\n",
              "    .dataframe tbody tr th:only-of-type {\n",
              "        vertical-align: middle;\n",
              "    }\n",
              "\n",
              "    .dataframe tbody tr th {\n",
              "        vertical-align: top;\n",
              "    }\n",
              "\n",
              "    .dataframe thead th {\n",
              "        text-align: right;\n",
              "    }\n",
              "</style>\n",
              "<table border=\"1\" class=\"dataframe\">\n",
              "  <thead>\n",
              "    <tr style=\"text-align: right;\">\n",
              "      <th></th>\n",
              "      <th>nome</th>\n",
              "    </tr>\n",
              "  </thead>\n",
              "  <tbody>\n",
              "    <tr>\n",
              "      <th>0</th>\n",
              "      <td>Howard</td>\n",
              "    </tr>\n",
              "    <tr>\n",
              "      <th>1</th>\n",
              "      <td>Ian</td>\n",
              "    </tr>\n",
              "    <tr>\n",
              "      <th>2</th>\n",
              "      <td>Peter</td>\n",
              "    </tr>\n",
              "    <tr>\n",
              "      <th>3</th>\n",
              "      <td>Jonah</td>\n",
              "    </tr>\n",
              "    <tr>\n",
              "      <th>4</th>\n",
              "      <td>Kellie</td>\n",
              "    </tr>\n",
              "  </tbody>\n",
              "</table>\n",
              "</div>"
            ],
            "text/plain": [
              "     nome\n",
              "0  Howard\n",
              "1     Ian\n",
              "2   Peter\n",
              "3   Jonah\n",
              "4  Kellie"
            ]
          },
          "metadata": {},
          "execution_count": 10
        }
      ]
    },
    {
      "cell_type": "code",
      "metadata": {
        "id": "TJlPxeI4UNjO"
      },
      "source": [
        "lista_nomes = 'Howard Ian Peter Jonah Kellie'.split()\n",
        "lista_cpfs = '111.111.111-11 222.222.222-22 333.333.333-33 444.444.444-44\n",
        "555.555.555-55'.split()\n",
        "lista_emails = 'risus.varius@dictumPhasellusin.ca\n",
        "Nunc@vulputate.ca fames.ac.turpis@cursusa.org non@felisullamcorper.org\n",
        "eget.dictum.placerat@necluctus.co.uk'.split()\n",
        "lista_idades = [32, 22, 25, 29, 38]\n",
        "dados = list(zip(lista_nomes, lista_cpfs, lista_idades, lista_emails)) # cria\n",
        "uma lista de tuplas # Cria um DataFrame a partir de uma lista de tuplas\n",
        "pd.DataFrame(dados, columns=['nome', 'cpfs', 'idade', 'email']) "
      ],
      "execution_count": null,
      "outputs": []
    }
  ]
}