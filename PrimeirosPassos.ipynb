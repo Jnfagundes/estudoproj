{
  "nbformat": 4,
  "nbformat_minor": 0,
  "metadata": {
    "colab": {
      "name": "PrimeirosPassos.ipynb",
      "provenance": [],
      "collapsed_sections": [],
      "authorship_tag": "ABX9TyOrIuqR7WyJ9X7Af8pCg8n0",
      "include_colab_link": true
    },
    "kernelspec": {
      "name": "python3",
      "display_name": "Python 3"
    }
  },
  "cells": [
    {
      "cell_type": "markdown",
      "metadata": {
        "id": "view-in-github",
        "colab_type": "text"
      },
      "source": [
        "<a href=\"https://colab.research.google.com/github/Jnfagundes/estudoproj/blob/master/PrimeirosPassos.ipynb\" target=\"_parent\"><img src=\"https://colab.research.google.com/assets/colab-badge.svg\" alt=\"Open In Colab\"/></a>"
      ]
    },
    {
      "cell_type": "code",
      "metadata": {
        "id": "FvIzhMQZ3SQ_"
      },
      "source": [
        "print(\"Olá mundo!\")\n",
        "print(\"My name is José Nilton\")\n",
        "soma= 5+4\n",
        "print(soma)\n",
        "login = input(\"Digite o seu login: \")\n",
        "senha = input(\"Digite sua senha: \")\n",
        "if login ==\"userpy\" and senha == \"teste123\":\n",
        "  print(\"Bem-vindo userpy\")\n",
        "else:\n",
        "  print(\"Login falhou, verifique sua senha e tente novamente\")\n",
        "    \n"
      ],
      "execution_count": null,
      "outputs": []
    }
  ]
}