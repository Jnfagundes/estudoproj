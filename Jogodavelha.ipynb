{
  "nbformat": 4,
  "nbformat_minor": 0,
  "metadata": {
    "colab": {
      "name": "Jogodavelha.ipynb",
      "provenance": [],
      "authorship_tag": "ABX9TyOYIUWpKfYCEPp7KWhG9qTP",
      "include_colab_link": true
    },
    "kernelspec": {
      "name": "python3",
      "display_name": "Python 3"
    },
    "language_info": {
      "name": "python"
    }
  },
  "cells": [
    {
      "cell_type": "markdown",
      "metadata": {
        "id": "view-in-github",
        "colab_type": "text"
      },
      "source": [
        "<a href=\"https://colab.research.google.com/github/Jnfagundes/estudoproj/blob/master/Jogodavelha.ipynb\" target=\"_parent\"><img src=\"https://colab.research.google.com/assets/colab-badge.svg\" alt=\"Open In Colab\"/></a>"
      ]
    },
    {
      "cell_type": "code",
      "metadata": {
        "colab": {
          "base_uri": "https://localhost:8080/",
          "height": 367
        },
        "id": "aBMqDKhlsgiA",
        "outputId": "44114eca-dad4-46c2-8544-1465c24c254f"
      },
      "source": [
        "\n",
        "import os # Biblioteca para utilização do clean do sistema operacional\n",
        "import random # Para sortear valores aleatórios\n",
        "from colorama import Fore, Back, Style   # Para trabalhar com cores frente, fundo e estilo de letras\n",
        "\n",
        "jogarNovamente = 'sim'\n",
        "jogadas = 0\n",
        "quemJoga = 2\n",
        "maxJogadas = 9\n",
        "vit = 'n'\n",
        "velha = [\n",
        "         [' ',' ',' '],\n",
        "         [' ',' ',' '],\n",
        "         [' ',' ',' ']\n",
        "]\n",
        "\n",
        "def tela():\n",
        "  global velha\n",
        "  global jogadas\n",
        "  os.system('cls')\n",
        "  print('   0  1  2')\n",
        "  print('0:  ' + velha[0][0] + ' | ' + velha[0][1] + ' | ' + velha[0][2])\n",
        "  print('   -----------')\n",
        "  print('1:  ' + velha[1][0] + ' | ' + velha[1][1] + ' | ' + velha[1][2])\n",
        "  print('   -----------')\n",
        "  print('2:  ' + velha[2][0] + ' | ' + velha[2][1] + ' | ' + velha[2][2])\n",
        "  print('Jogadas: ' + Fore.GREEN + str(jogadas) + Fore.RESET) # o Fore está sendo usado para aplicar cor verde na fonte. O RESET encerra a cor aqui.\n",
        "\n",
        "tela()  \n"
      ],
      "execution_count": null,
      "outputs": [
        {
          "output_type": "error",
          "ename": "ModuleNotFoundError",
          "evalue": "ignored",
          "traceback": [
            "\u001b[0;31m---------------------------------------------------------------------------\u001b[0m",
            "\u001b[0;31mModuleNotFoundError\u001b[0m                       Traceback (most recent call last)",
            "\u001b[0;32m<ipython-input-26-49dfefc60f75>\u001b[0m in \u001b[0;36m<module>\u001b[0;34m()\u001b[0m\n\u001b[1;32m      1\u001b[0m \u001b[0;32mimport\u001b[0m \u001b[0mos\u001b[0m \u001b[0;31m# Biblioteca para utilização do clean do sistema operacional\u001b[0m\u001b[0;34m\u001b[0m\u001b[0;34m\u001b[0m\u001b[0m\n\u001b[1;32m      2\u001b[0m \u001b[0;32mimport\u001b[0m \u001b[0mrandom\u001b[0m \u001b[0;31m# Para sortear valores aleatórios\u001b[0m\u001b[0;34m\u001b[0m\u001b[0;34m\u001b[0m\u001b[0m\n\u001b[0;32m----> 3\u001b[0;31m \u001b[0;32mfrom\u001b[0m \u001b[0mcolorama\u001b[0m \u001b[0;32mimport\u001b[0m \u001b[0mFore\u001b[0m\u001b[0;34m,\u001b[0m \u001b[0mBack\u001b[0m\u001b[0;34m,\u001b[0m \u001b[0mStyle\u001b[0m   \u001b[0;31m# Para trabalhar com cores frente, fundo e estilo de letras\u001b[0m\u001b[0;34m\u001b[0m\u001b[0;34m\u001b[0m\u001b[0m\n\u001b[0m\u001b[1;32m      4\u001b[0m \u001b[0;34m\u001b[0m\u001b[0m\n\u001b[1;32m      5\u001b[0m \u001b[0mjogarNovamente\u001b[0m \u001b[0;34m=\u001b[0m \u001b[0;34m'sim'\u001b[0m\u001b[0;34m\u001b[0m\u001b[0;34m\u001b[0m\u001b[0m\n",
            "\u001b[0;31mModuleNotFoundError\u001b[0m: No module named 'colorama'",
            "",
            "\u001b[0;31m---------------------------------------------------------------------------\u001b[0;32m\nNOTE: If your import is failing due to a missing package, you can\nmanually install dependencies using either !pip or !apt.\n\nTo view examples of installing some common dependencies, click the\n\"Open Examples\" button below.\n\u001b[0;31m---------------------------------------------------------------------------\u001b[0m\n"
          ],
          "errorDetails": {
            "actions": [
              {
                "action": "open_url",
                "actionText": "Open Examples",
                "url": "/notebooks/snippets/importing_libraries.ipynb"
              }
            ]
          }
        }
      ]
    }
  ]
}