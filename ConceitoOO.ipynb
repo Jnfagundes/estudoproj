{
  "nbformat": 4,
  "nbformat_minor": 0,
  "metadata": {
    "colab": {
      "name": "ConceitoOO.ipynb",
      "provenance": [],
      "authorship_tag": "ABX9TyPsqvqmI7xY90EH/kV6U9IC",
      "include_colab_link": true
    },
    "kernelspec": {
      "name": "python3",
      "display_name": "Python 3"
    },
    "language_info": {
      "name": "python"
    }
  },
  "cells": [
    {
      "cell_type": "markdown",
      "metadata": {
        "id": "view-in-github",
        "colab_type": "text"
      },
      "source": [
        "<a href=\"https://colab.research.google.com/github/Jnfagundes/estudoproj/blob/master/ConceitoOO.ipynb\" target=\"_parent\"><img src=\"https://colab.research.google.com/assets/colab-badge.svg\" alt=\"Open In Colab\"/></a>"
      ]
    },
    {
      "cell_type": "code",
      "metadata": {
        "colab": {
          "base_uri": "https://localhost:8080/"
        },
        "id": "Vcr4ldjNGQcr",
        "outputId": "4498776b-fa43-463a-cddf-d04c3ef701de"
      },
      "source": [
        "print('Conceitos de POO')\n",
        "class Pessoa:  #Criação da classe Pessoa \n",
        "  nome = ' ' # Atributo da classe Pessoa\n",
        "\n",
        "  def imprimir_mensagem(self): #Método da classe pessoa\n",
        "    print('Estudando classes')\n",
        "\n",
        "objetoPessoa = Pessoa()  #Criação do objeto\n",
        "objetoPessoa.nome = 'José' \n",
        "\n",
        "print(objetoPessoa.nome)\n",
        "objetoPessoa.imprimir_mensagem()\n"
      ],
      "execution_count": 3,
      "outputs": [
        {
          "output_type": "stream",
          "name": "stdout",
          "text": [
            "Conceitos de POO\n",
            "José\n",
            "Estudando classes\n"
          ]
        }
      ]
    },
    {
      "cell_type": "code",
      "metadata": {
        "id": "gm6rC8NNME8B"
      },
      "source": [
        ""
      ],
      "execution_count": null,
      "outputs": []
    }
  ]
}