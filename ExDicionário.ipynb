{
  "nbformat": 4,
  "nbformat_minor": 0,
  "metadata": {
    "colab": {
      "name": "ExDicionário.ipynb",
      "provenance": [],
      "collapsed_sections": [],
      "authorship_tag": "ABX9TyOlROiZh6xhIaxPxc4uSu6O",
      "include_colab_link": true
    },
    "kernelspec": {
      "name": "python3",
      "display_name": "Python 3"
    }
  },
  "cells": [
    {
      "cell_type": "markdown",
      "metadata": {
        "id": "view-in-github",
        "colab_type": "text"
      },
      "source": [
        "<a href=\"https://colab.research.google.com/github/Jnfagundes/estudoproj/blob/master/ExDicion%C3%A1rio.ipynb\" target=\"_parent\"><img src=\"https://colab.research.google.com/assets/colab-badge.svg\" alt=\"Open In Colab\"/></a>"
      ]
    },
    {
      "cell_type": "code",
      "metadata": {
        "id": "RRT9J9-Jsfcb"
      },
      "source": [
        "print('====== Exercício 90 ======')\n",
        "aluno = dict()\n",
        "aluno['nome'] = str(input('Nome do aluno: '))\n",
        "aluno['média'] = float(input(f'Média do {aluno[\"nome\"]}: '))\n",
        "if aluno['média'] >= 7:\n",
        "  aluno['situação'] = 'Aprovado'\n",
        "elif 5 <= aluno['média'] < 7:\n",
        "  aluno['situação'] ='Recuperação'\n",
        "else:\n",
        "  aluno['situação'] = 'Reprovado' \n",
        "print('-'*35)  \n",
        "for k, v in aluno.items():\n",
        "  print(f' - {k} é igual a {v}')\n"
      ],
      "execution_count": null,
      "outputs": []
    },
    {
      "cell_type": "code",
      "metadata": {
        "id": "YBx5N0X3PXkO"
      },
      "source": [
        "from time import sleep\n",
        "from operator import itemgetter\n",
        "from random import randint\n",
        "print('====== Exercício 91 ======')\n",
        "print('     Jogo de Dados         ')\n",
        "print('-='*15)\n",
        "jogo = {'jogador1': randint(1, 6),\n",
        "        'jogador2': randint(1, 6),\n",
        "        'jogador3': randint(1, 6),\n",
        "        'jogador4': randint(1, 6)}\n",
        "ranking = list()\n",
        "print('Valores sorteados:')\n",
        "for k, v in jogo.items():\n",
        "  print(f' {k} tirou {v} no dado.')          \n",
        "  sleep(1)\n",
        "print('-='*15) \n",
        "print('  == Ranking dos jogadores ==') \n",
        "ranking = sorted(jogo.items(), key=itemgetter(1), reverse=True)\n",
        "for i, v in enumerate(ranking):\n",
        "  print(f' {i + 1}º lugar: {v[0]} com {v[1]}.')\n"
      ],
      "execution_count": null,
      "outputs": []
    },
    {
      "cell_type": "code",
      "metadata": {
        "id": "mfpMpeHl2XCL"
      },
      "source": [
        "from datetime import  datetime\n",
        "print('====== Exercício 92 ======')\n",
        "dados = dict()\n",
        "dados['nome'] = str(input('Digite o nome: '))\n",
        "nasc = int(input('Ano de nascimento: '))\n",
        "dados['idade'] = datetime.now().year - nasc\n",
        "dados['ctps'] = int(input('Carteira de trabalho (0 não tem): '))\n",
        "if dados['ctps'] != 0:\n",
        "  dados['contratação'] = int(input('Ano de contratação: '))\n",
        "  dados['salário'] = float(input('Salário: R$'))\n",
        "  dados['aposentadoria'] = dados['idade'] + ((dados['contratação'] + 35) - datetime.now().year)\n",
        "print('-='*30)\n",
        "for k, v in dados.items():\n",
        "  print(f'  ->  {k} tem o valor {v}') \n"
      ],
      "execution_count": null,
      "outputs": []
    },
    {
      "cell_type": "code",
      "metadata": {
        "id": "PbdAo_PFL9_s"
      },
      "source": [
        "print('====== Exercício 93 ======')\n",
        "jogador = dict()\n",
        "partidas = list()\n",
        "jogador['nome'] = str(input('Digite o nome do jogador: '))\n",
        "tot = int(input(f'Quantas partidas o {jogador[\"nome\"]} jogou? '))\n",
        "for c in range(0, tot):\n",
        "  partidas.append(int(input(f'Quantos gols na partida {c + 1}: ')))\n",
        "jogador['gols'] = partidas[:] \n",
        "jogador['total'] = sum(partidas) \n",
        "print('-='*30)\n",
        "print(jogador)\n",
        "print('-='*30)\n",
        "for k , v in jogador.items():\n",
        "  print(f'O campo {k} tem o valor {v}')\n",
        "print('-='*30)\n",
        "print(f'O jogador {jogador[\"nome\"]} jogou {len(jogador[\"gols\"])} partidas. ') \n",
        "for i, v in enumerate(jogador['gols']):\n",
        "  print(f'   => Na partida {i + 1}, fez {v} gols') \n",
        "print(f'Foi um total de {jogador[\"total\"]} gols.')  \n"
      ],
      "execution_count": null,
      "outputs": []
    },
    {
      "cell_type": "code",
      "metadata": {
        "id": "gTN65QzRim98"
      },
      "source": [
        "print('====== Exercício 94 ======')\n",
        "galera = list()\n",
        "pessoa = dict()\n",
        "soma = média = 0\n",
        "while True:\n",
        "  pessoa.clear()\n",
        "  pessoa['nome'] = str(input('Digite o nome: '))\n",
        "  while True:\n",
        "    pessoa['sexo'] = str(input('Digite o sexo: [M/F] ')).upper()[0]\n",
        "    if pessoa['sexo'] in 'MF':\n",
        "      break\n",
        "    print('ERRO! Por favor, digite apenas M ou F.')\n",
        "  pessoa['idade'] = int(input(f'Digite a idade do(a) {pessoa[\"nome\"]}: '))\n",
        "  soma += pessoa['idade']\n",
        "  galera.append(pessoa.copy())\n",
        "  while True:\n",
        "    resp = str(input('Quer continuar? [S/N] ')).upper()[0]\n",
        "    if resp in 'SN':\n",
        "      print('-='*30)\n",
        "      break\n",
        "    \n",
        "    print('ERRO! Responda apenas S ou N. ') \n",
        "  if resp == 'N':\n",
        "    break\n",
        "print('-='*30)       \n",
        "print(f'Ao todo foram cadastrados {len(galera)} pessoas.')\n",
        "média = soma / len(galera) \n",
        "print(f'A média de idade é de {média:5.2f} anos.')\n",
        "print('As mulheres cadastradas foram: ',end=' ')\n",
        "for p in galera:\n",
        "  if p['sexo'] in 'Ff':\n",
        "    print(f'{p[\"nome\"]} ',end=' ')\n",
        "print()\n",
        "print('Lista das pessoas que estão acima da média: ')\n",
        "for p in galera:\n",
        "  if p['idade'] >= média:\n",
        "    print(' ', end=' ')\n",
        "    for k, v in p.items():\n",
        "      print(f'{k} = {v}; ',end=' ')\n",
        "    print()\n",
        "print('  << ENCERRADO >>  ')   \n"
      ],
      "execution_count": null,
      "outputs": []
    },
    {
      "cell_type": "code",
      "metadata": {
        "colab": {
          "base_uri": "https://localhost:8080/"
        },
        "id": "SY3jNxmwzvbR",
        "outputId": "2a6626a6-3bfb-4335-a30b-487f488215ec"
      },
      "source": [
        "print('====== Exercício 95 ======')\n",
        "jogador = dict()\n",
        "partidas = list()\n",
        "time = list()\n",
        "while True:\n",
        "  jogador.clear()\n",
        "  jogador['nome'] = str(input('Digite o nome do jogador: '))\n",
        "  tot = int(input(f'Quantas partidas o {jogador[\"nome\"]} jogou? '))\n",
        "  partidas.clear()\n",
        "  for c in range(0, tot):\n",
        "    partidas.append(int(input(f'Quantos gols na partida {c + 1}: ')))\n",
        "  jogador['gols'] = partidas[:]\n",
        "  jogador['total'] = sum(partidas)\n",
        "  time.append(jogador.copy())\n",
        "  while True:\n",
        "    resp =str(input('Quer continuar? [S/N] ')).upper()[0]\n",
        "    if resp in 'SN':\n",
        "      print('---'*25)\n",
        "      break\n",
        "    print('ERRO! Responda apenas S ou N. ')\n",
        "  if resp == 'N':\n",
        "    break\n",
        "print('-='*30)\n",
        "print('cod ',end='')\n",
        "for i in jogador.keys():\n",
        "  print(f'{i:>15}',end='')\n",
        "print() \n",
        "for k, v in enumerate(time):\n",
        "  print(f'{k:>3}', end='')\n",
        "  for d in v.values():\n",
        "    print(f'{str(d):>15}', end='')\n",
        "  print()\n",
        "print('-='*30)\n",
        "while True:\n",
        "  busca = int(input('Mostrar dados de qual jogador? [999 encerra] '))\n",
        "  if busca == 999:\n",
        "    break\n",
        "  if busca >=len(time):\n",
        "    print(f'ERRO! Não existe jogador com o código {busca}!')\n",
        "  else:\n",
        "    print(f' --- Levantamento do jogador {time[busca][\"nome\"]}:')\n",
        "    for i, g in enumerate(time[busca]['gols']):\n",
        "      print(f'  No jogo {i + 1} fez {g} gols')\n",
        "  print('-='*30)\n",
        "print('<< Volte sempre >>')      \n",
        "\n",
        "\n"
      ],
      "execution_count": null,
      "outputs": [
        {
          "output_type": "stream",
          "text": [
            "====== Exercício 95 ======\n",
            "Digite o nome do jogador: Hélio\n",
            "Quantas partidas o Hélio jogou? 2\n",
            "Quantos gols na partida 1: 1\n",
            "Quantos gols na partida 2: 2\n",
            "Quer continuar? [S/N] s\n",
            "---------------------------------------------------------------------------\n",
            "Digite o nome do jogador: Iago\n",
            "Quantas partidas o Iago jogou? 3\n",
            "Quantos gols na partida 1: 1\n",
            "Quantos gols na partida 2: 2\n",
            "Quantos gols na partida 3: 3\n",
            "Quer continuar? [S/N] s\n",
            "---------------------------------------------------------------------------\n",
            "Digite o nome do jogador: Ronaldo\n",
            "Quantas partidas o Ronaldo jogou? 4\n",
            "Quantos gols na partida 1: 0\n",
            "Quantos gols na partida 2: 0\n",
            "Quantos gols na partida 3: 2\n",
            "Quantos gols na partida 4: 1\n",
            "Quer continuar? [S/N] s\n",
            "---------------------------------------------------------------------------\n",
            "Digite o nome do jogador: Osvaldo\n",
            "Quantas partidas o Osvaldo jogou? 1\n",
            "Quantos gols na partida 1: 3\n",
            "Quer continuar? [S/N] n\n",
            "---------------------------------------------------------------------------\n",
            "-=-=-=-=-=-=-=-=-=-=-=-=-=-=-=-=-=-=-=-=-=-=-=-=-=-=-=-=-=-=\n",
            "cod            nome           gols          total\n",
            "  0          Hélio         [1, 2]              3\n",
            "  1           Iago      [1, 2, 3]              6\n",
            "  2        Ronaldo   [0, 0, 2, 1]              3\n",
            "  3        Osvaldo            [3]              3\n",
            "-=-=-=-=-=-=-=-=-=-=-=-=-=-=-=-=-=-=-=-=-=-=-=-=-=-=-=-=-=-=\n",
            "Mostrar dados de qual jogador? [999 encerra] 5\n",
            "ERRO! Não existe jogador com o código 5!\n",
            "-=-=-=-=-=-=-=-=-=-=-=-=-=-=-=-=-=-=-=-=-=-=-=-=-=-=-=-=-=-=\n",
            "Mostrar dados de qual jogador? [999 encerra] 3\n",
            " --- Levantamento do jogador Osvaldo:\n",
            "  No jogo 1 fez 3 gols\n",
            "-=-=-=-=-=-=-=-=-=-=-=-=-=-=-=-=-=-=-=-=-=-=-=-=-=-=-=-=-=-=\n",
            "Mostrar dados de qual jogador? [999 encerra] 1\n",
            " --- Levantamento do jogador Iago:\n",
            "  No jogo 1 fez 1 gols\n",
            "  No jogo 2 fez 2 gols\n",
            "  No jogo 3 fez 3 gols\n",
            "-=-=-=-=-=-=-=-=-=-=-=-=-=-=-=-=-=-=-=-=-=-=-=-=-=-=-=-=-=-=\n",
            "Mostrar dados de qual jogador? [999 encerra] 999\n",
            "<< Volte sempre >>\n"
          ],
          "name": "stdout"
        }
      ]
    }
  ]
}