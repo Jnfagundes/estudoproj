{
  "nbformat": 4,
  "nbformat_minor": 0,
  "metadata": {
    "colab": {
      "name": "BancoDeDados.ipynb",
      "provenance": [],
      "authorship_tag": "ABX9TyNuYh9MOSKzRrjwkeNceIfd",
      "include_colab_link": true
    },
    "kernelspec": {
      "name": "python3",
      "display_name": "Python 3"
    },
    "language_info": {
      "name": "python"
    }
  },
  "cells": [
    {
      "cell_type": "markdown",
      "metadata": {
        "id": "view-in-github",
        "colab_type": "text"
      },
      "source": [
        "<a href=\"https://colab.research.google.com/github/Jnfagundes/estudoproj/blob/master/BancoDeDados.ipynb\" target=\"_parent\"><img src=\"https://colab.research.google.com/assets/colab-badge.svg\" alt=\"Open In Colab\"/></a>"
      ]
    },
    {
      "cell_type": "code",
      "metadata": {
        "id": "UJ3vU3D7rw5n"
      },
      "source": [
        "import sqlite3 \n",
        "\n",
        "conn = sqlite3.connect('aulaDB.db')\n",
        "\n",
        "cursor = conn.cursor()  #Aqui estamos criando a tabela (CREAT)\n",
        "cursor.execute(\"\"\"\n",
        "INSERT INTO fornecedor (nome_fornecedor, cnpj, cidade, estado, cp, data_cadastro)\n",
        "VALUES ('Empresa A', '11.111.111/1111-11', 'São Paulo', 'SP', '11111-111', '2020-01-01')\n",
        "\"\"\")\n",
        "\n",
        "conn.commit()\n",
        "\n",
        "cursor.execute(\"SELECT * FROM fornecedor\") # Aqui estamos lendo os dados (READ)\n",
        "resultado = cursor.fetchall()\n",
        "for linha in resultado:\n",
        "    print(linha)\n",
        "\n",
        "cursor.execute(\"UPDATE fornecedor SET cidade = 'Campinas' WHERE id_fornecedor = 5\") #Aqui estamos alterando os dados (UPDATE)\n",
        "conn.commit() \n",
        "\n",
        "cursor.execute(\"DELETE FROM fornecedor WHERE id_fornecedor = 2\") #Aqui temos um comando para apagar algo (DELETE)\n",
        "conn.commit() \n"
      ],
      "execution_count": null,
      "outputs": []
    }
  ]
}