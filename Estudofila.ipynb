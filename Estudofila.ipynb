{
  "nbformat": 4,
  "nbformat_minor": 0,
  "metadata": {
    "colab": {
      "name": "Estudofila.ipynb",
      "provenance": [],
      "authorship_tag": "ABX9TyNCGpe041+XKO2C16PRp/dy",
      "include_colab_link": true
    },
    "kernelspec": {
      "name": "python3",
      "display_name": "Python 3"
    }
  },
  "cells": [
    {
      "cell_type": "markdown",
      "metadata": {
        "id": "view-in-github",
        "colab_type": "text"
      },
      "source": [
        "<a href=\"https://colab.research.google.com/github/Jnfagundes/estudoproj/blob/master/Estudofila.ipynb\" target=\"_parent\"><img src=\"https://colab.research.google.com/assets/colab-badge.svg\" alt=\"Open In Colab\"/></a>"
      ]
    },
    {
      "cell_type": "code",
      "metadata": {
        "id": "yLQdUGyUhhgq",
        "colab": {
          "base_uri": "https://localhost:8080/",
          "height": 204
        },
        "outputId": "437e85be-cb72-4cfa-c369-dd29169e4150"
      },
      "source": [
        "produtos=['arroz', 'macarrão', 'creme dental', 'escova de dentes', 'sabao', 'detergente']# Aqui temos a criação de uma lista\n",
        "produtos.append('vinagre') # Aqui está sendo inserido mais um item na lista\n",
        "produtos.pop() # Aqui estamos removendo o ultimo item inserido\n",
        "for produto in produtos:# Aqui é feita a retirada dos produtos.\n",
        "   print(produto) # Aqui temos a exibição para o usuário\n",
        "\n",
        "produtos={\n",
        "    'arroz': 'comida',\n",
        "   'feijão': 'comida'\n",
        "   } # Temos aqui a criação de um dicionário.\n",
        "print(produtos) # Nessa linha temos a possibilidade mostrar para o usuário o dicionário montado.\n",
        "print(produtos['arroz']) # Aqui está sendo pedido, através da chave arroz, qual a definição.\n",
        "print('As chaves do dicionário são: ', produtos.keys()) # Nessa linha estamos solicitando as chaves do dicionário. \n",
        "print(produtos.values()) # Já nessa linha estamos solicitando os valores do dicionário.\n",
        "\n",
        "produtos= ('carne', 'arroz', 'macarrão') # Aqui está sendo criado uma tupla.\n",
        "\n",
        "print(produtos[1]) # Aqui está sendo solicitado o item da posição 1 e ele está sendo mostrado para o usuário.\n",
        "\n",
        "\n"
      ],
      "execution_count": null,
      "outputs": [
        {
          "output_type": "stream",
          "text": [
            "arroz\n",
            "macarrão\n",
            "creme dental\n",
            "escova de dentes\n",
            "sabao\n",
            "detergente\n",
            "{'arroz': 'comida', 'feijão': 'comida'}\n",
            "comida\n",
            "As chaves do dicionário são:  dict_keys(['arroz', 'feijão'])\n",
            "dict_values(['comida', 'comida'])\n",
            "arroz\n"
          ],
          "name": "stdout"
        }
      ]
    }
  ]
}