{
  "nbformat": 4,
  "nbformat_minor": 0,
  "metadata": {
    "colab": {
      "name": "Buscas.ipynb",
      "provenance": [],
      "authorship_tag": "ABX9TyP/4gokUtFnlrr7hGKw1aru",
      "include_colab_link": true
    },
    "kernelspec": {
      "name": "python3",
      "display_name": "Python 3"
    },
    "language_info": {
      "name": "python"
    }
  },
  "cells": [
    {
      "cell_type": "markdown",
      "metadata": {
        "id": "view-in-github",
        "colab_type": "text"
      },
      "source": [
        "<a href=\"https://colab.research.google.com/github/Jnfagundes/estudoproj/blob/master/Buscas.ipynb\" target=\"_parent\"><img src=\"https://colab.research.google.com/assets/colab-badge.svg\" alt=\"Open In Colab\"/></a>"
      ]
    },
    {
      "cell_type": "code",
      "metadata": {
        "colab": {
          "base_uri": "https://localhost:8080/"
        },
        "id": "-owmeH-Ua4jQ",
        "outputId": "f16cd78a-359c-44cc-9e05-29d998850bd8"
      },
      "source": [
        "print('Mecanismos de buscas')\n",
        "print('=#='*30)\n",
        "print('Busca linear')\n",
        "def busca_sequencial(lista, elemento): #Criação da função de busca\n",
        "  pos = 0  # Quando não encontrado o valor, pulamos para o próximo\n",
        "  encontrado = False #Quando encontrado o valor muda para True\n",
        "\n",
        "  while pos < len(lista) and not encontrado: # Enquanto o valor de pos for menor que o tamanho da lista e o valor de encontrado for False faça\n",
        "    if lista[pos] == elemento: # Se valor na posição pos for igual ao elemento da lista\n",
        "      encontrado = True # O valor de encontrado será alterado para True\n",
        "    else:   # Caso a situação acima não seja atendida\n",
        "      pos = pos + 1 # O pos será acrescido de 1\n",
        "  return  encontrado  # Essa função retorna o objeto 'encontrado'  \n",
        "\n",
        "testelista = [2, 10, 8, 15, 18, 20, 12, 1]\n",
        "busca = int(input('Qual valor deseja encontrar? '))\n",
        "print(busca_sequencial(testelista, busca))\n",
        "\n"
      ],
      "execution_count": 12,
      "outputs": [
        {
          "output_type": "stream",
          "name": "stdout",
          "text": [
            "Mecanismos de buscas\n",
            "=#==#==#==#==#==#==#==#==#==#==#==#==#==#==#==#==#==#==#==#==#==#==#==#==#==#==#==#==#==#=\n",
            "Busca linear\n",
            "Qual valor deseja encontrar? 18\n",
            "True\n"
          ]
        }
      ]
    },
    {
      "cell_type": "code",
      "metadata": {
        "colab": {
          "base_uri": "https://localhost:8080/"
        },
        "id": "0ze14RiVltjF",
        "outputId": "f292f252-4ee8-4286-a662-858f9cfee788"
      },
      "source": [
        "print('Busca sequencial ordenada')\n",
        "def busca_sequencial_ordenada(lista, elemento):\n",
        "  pos = 0\n",
        "  encontrado = False\n",
        "  para = False\n",
        "\n",
        "  while pos < len(lista) and not encontrado and not para:\n",
        "    if lista[pos] == elemento:\n",
        "      encontrado = True\n",
        "    else:\n",
        "      if lista[pos] > elemento:\n",
        "        para = True\n",
        "      else:\n",
        "        pos = pos + 1\n",
        "  return encontrado\n",
        "\n",
        "testelista = [2, 10, 8, 15, 18, 20, 12, 1]\n",
        "busca = int(input('Qual valor deseja encontrar? '))\n",
        "print(busca_sequencial(testelista, busca))          "
      ],
      "execution_count": 13,
      "outputs": [
        {
          "output_type": "stream",
          "name": "stdout",
          "text": [
            "Busca sequencial ordenada\n",
            "Qual valor deseja encontrar? 10\n",
            "True\n"
          ]
        }
      ]
    },
    {
      "cell_type": "code",
      "metadata": {
        "colab": {
          "base_uri": "https://localhost:8080/"
        },
        "id": "T2foPHNVnjk3",
        "outputId": "c1b3b897-789e-43c9-8564-a63655f03db5"
      },
      "source": [
        "print('Busca Binária')\n",
        "\n",
        "def busca_binaria(lista, elemento):\n",
        "  minimo = 0  \n",
        "  maximo = len(lista) - 1 # Tamanho da lista menos 1\n",
        "  encontrado = False\n",
        "\n",
        "  while minimo <= maximo and not encontrado: # Enquanto o objeto minimo for menor ou igual ao objeto maximo e econtrado for False\n",
        "    meio_lista = (minimo + maximo)//2 # O meio da lista será o valor de minimo somado ao valor de maximo dividido por 2\n",
        "    if lista[meio_lista] == elemento: # Se o valor de meio_lista for o elemento procurado o objeto 'encontrado' receberá o valor True\n",
        "      encontrado = True \n",
        "\n",
        "    else:\n",
        "      if elemento < lista[meio_lista]: # Se o valor procurado for menor que meio_lista\n",
        "        maximo = meio_lista - 1  # O objeto maximo receberá meio_lista menos 1\n",
        "      else:\n",
        "        minimo = meio_lista + 1 # Caso contrário o minimo receberá meio_lista somado 1\n",
        "\n",
        "  return encontrado\n",
        "\n",
        "testelista = [1, 2, 3, 4, 5, 6, 7, 8, 9, 10, 11, 12, 13, 14, 15]\n",
        "busca = int(input('Qual valor deseja encontrar? '))\n",
        "print(busca_sequencial(testelista, busca)) \n"
      ],
      "execution_count": 14,
      "outputs": [
        {
          "output_type": "stream",
          "name": "stdout",
          "text": [
            "Busca Binária\n",
            "Qual valor deseja encontrar? 10\n",
            "True\n"
          ]
        }
      ]
    }
  ]
}