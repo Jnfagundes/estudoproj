{
  "nbformat": 4,
  "nbformat_minor": 0,
  "metadata": {
    "colab": {
      "name": "Estudos_treino.ipynb",
      "provenance": [],
      "authorship_tag": "ABX9TyOQ4no8AXCzbS2B7xoF6A6f",
      "include_colab_link": true
    },
    "kernelspec": {
      "name": "python3",
      "display_name": "Python 3"
    },
    "language_info": {
      "name": "python"
    }
  },
  "cells": [
    {
      "cell_type": "markdown",
      "metadata": {
        "id": "view-in-github",
        "colab_type": "text"
      },
      "source": [
        "<a href=\"https://colab.research.google.com/github/Jnfagundes/estudoproj/blob/master/Estudos_treino.ipynb\" target=\"_parent\"><img src=\"https://colab.research.google.com/assets/colab-badge.svg\" alt=\"Open In Colab\"/></a>"
      ]
    },
    {
      "cell_type": "code",
      "metadata": {
        "id": "ypF6mwmSdXZ5"
      },
      "source": [
        ""
      ],
      "execution_count": null,
      "outputs": []
    },
    {
      "cell_type": "code",
      "metadata": {
        "id": "ExQM9f3kt1ZY"
      },
      "source": [
        "print('====== Exercício 57 =======')\n",
        "sexo = str(input('Informe seu sexo: [M/F]')).strip().upper()[0] # A função strip() exclui espaços na string, a função upper() deixa a string maiúscula \n",
        "# e o [0] é para ser pego a string que estiver na posição zero.\n",
        "while sexo not in 'MF': # Enquanto a variável sexo não tiver M ou F\n",
        "  sexo = str(input('Dados inválidos. Por favor informe o sexo: ')).strip().upper()[0] # esse comando será executado. \n",
        "print(f'Sexo {sexo} registrado com sucesso')  \n"
      ],
      "execution_count": null,
      "outputs": []
    },
    {
      "cell_type": "code",
      "metadata": {
        "id": "SvOhmDP1558Z"
      },
      "source": [
        "from random import randint # Importação da função randint que está dentro da biblioteca random\n",
        "print('====== Exercício 58 ======')\n",
        "pc = randint(0, 10) # A variável pc recebe o valor randomizando entre 0 e 10\n",
        "print('Vou pensar em um número entre 0 e 10, consegue advinhar? ') \n",
        "acertou = False # A variável acertou recebendo a entrada False\n",
        "palpite = 0 # A variável palpite recebendo o valor 0\n",
        "while not acertou: # Enquanto não acertou for verdade\n",
        "  jogador = int(input('Em que número pensei? ')) # Aqui a variável jogador recebe um valor digitado pelo usuário\n",
        "  palpite += 1 # Esse valor é contado dentro desse contador\n",
        "  if jogador == pc: # Se o valor da variável jogador for igual o valor da variável pc\n",
        "    acertou = True # o valor da variável acertou muda para True\n",
        "  else: # Caso contrário\n",
        "    if jogador < pc: # Se o valor da variável jogador for menor que o valor da variável pc\n",
        "      print('Tente um valor maior.')\n",
        "    elif jogador > pc: # Se o valor da variável jogador for maior que o valor da variável pc\n",
        "        print('Tente um valor menor.')  \n",
        "print(f'Acertou, com {palpite} tentativas')\n"
      ],
      "execution_count": null,
      "outputs": []
    },
    {
      "cell_type": "code",
      "metadata": {
        "id": "mpCQGjxj0XmH"
      },
      "source": [
        "print('====== Exercício 59 ======')\n",
        "num1 = int(input('Digite o primeiro valor: '))\n",
        "num2 = int(input('Digite o segundo valor: '))\n",
        "opcao = 0\n",
        "while opcao != 5: # Enquanto a variável opcao for diferente de 5\n",
        "    print('-=-=-=-=-=-=-=-=-=-=-=-=-=-=-=-=-=-=-=-=-=-=-')\n",
        "    print('''     Opções:\n",
        "                  [1] somar\n",
        "                  [2] multiplicar\n",
        "                  [3] maior\n",
        "                  [4] novos números\n",
        "                  [5] sair do programa''')\n",
        "    print('-=-=-=-=-=-=-=-=-=-=-=-=-=-=-=-=-=-=-=-=-=-=-')\n",
        "    opcao = int(input('Qual sua opção? ')) \n",
        "    print('-=-=-=-=-=-=-=-=-=-=-=-=-=-=-=-=-=-=-=-=-=-=-')\n",
        "    if opcao == 1: # Se a variável opcao for igual a 1\n",
        "      print(f'A soma entre {num1} e {num2} é {num1 + num2}')\n",
        "    elif opcao == 2: # Se a variável opcao for igual a 2\n",
        "      print(f'A multiplicação entre {num1} e {num2} é {num1 * num2}')\n",
        "    elif opcao == 3: # Se a variável opcao for igual a 3 teremos um SE dentro desse SE\n",
        "      if num1 > num2 : # Se num1 for maior que num2\n",
        "        print(f'O maior número é {num1}.')\n",
        "      else:\n",
        "        print(f'O maior número é {numm2}.')  \n",
        "    elif opcao == 4: # Se a variável opcao for igual a 4\n",
        "      print('Informe os números novamente:')\n",
        "      num1 = int(input('Digite o primeiro valor: '))\n",
        "      num2 = int(input('Digite o segundo valor: '))\n",
        "    elif opcao == 5: # Se a variável opcao for igual a 5\n",
        "      print('Finalizando ...')\n",
        "    else:\n",
        "      print('Escolha uma opção válida')  \n",
        "print('Fim do programa.')   "
      ],
      "execution_count": null,
      "outputs": []
    }
  ]
}