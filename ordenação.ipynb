{
  "nbformat": 4,
  "nbformat_minor": 0,
  "metadata": {
    "colab": {
      "name": "ordenação.ipynb",
      "provenance": [],
      "authorship_tag": "ABX9TyMuZ1P2ZtLzjN4XTXTibXg0",
      "include_colab_link": true
    },
    "kernelspec": {
      "name": "python3",
      "display_name": "Python 3"
    },
    "language_info": {
      "name": "python"
    }
  },
  "cells": [
    {
      "cell_type": "markdown",
      "metadata": {
        "id": "view-in-github",
        "colab_type": "text"
      },
      "source": [
        "<a href=\"https://colab.research.google.com/github/Jnfagundes/estudoproj/blob/master/ordena%C3%A7%C3%A3o.ipynb\" target=\"_parent\"><img src=\"https://colab.research.google.com/assets/colab-badge.svg\" alt=\"Open In Colab\"/></a>"
      ]
    },
    {
      "cell_type": "code",
      "metadata": {
        "colab": {
          "base_uri": "https://localhost:8080/"
        },
        "id": "b6IK2QW2L1jY",
        "outputId": "e4f8255f-d46a-4ba5-cb7d-4854bbaa42ff"
      },
      "source": [
        "#Inicia-se do segundo valor pelo fato de ter o primeiro como referencia\n",
        "# O segundo elemento é comparado com o primeiro\n",
        "\n",
        "print('Insertion sort')\n",
        "# Esse algoritmo é lento para ordenação de grandes listas. Ele é do tipo Complexidade O(N2)\n",
        "# Algoritmo de Ordenação por inserção\n",
        "def executar_insertion_sort(lista):\n",
        "  n = len(lista) # O objeto n recebe o tamnho da lista\n",
        "  for i in range(1, n): # Para i em range de 1 até o tamanho da lista\n",
        "    valor_inserir = lista[i]  # O objeto valor_inserir recebe o valor que estiver na lista na posição i\n",
        "    j = i -1  # O objeto j recebe o valor de i subtraido por 1\n",
        "\n",
        "    while j >= 0 and lista[j] > valor_inserir:  # Enquanto j for maior ou igual a zero e o valor da lista que estiver na posição j for maior que valor_inserir\n",
        "      lista[j + 1] = lista[j] # A posição j será acrecida de 1 e receberá o valor da lista na posição j\n",
        "      j -= 1 \n",
        "    lista[j + 1] = valor_inserir\n",
        "  return lista\n",
        "\n",
        "lista = [10, 8, 7, 3, 2, 1]\n",
        "executar_insertion_sort(lista)    "
      ],
      "execution_count": 2,
      "outputs": [
        {
          "output_type": "stream",
          "name": "stdout",
          "text": [
            "Insertion sort\n"
          ]
        },
        {
          "output_type": "execute_result",
          "data": {
            "text/plain": [
              "[1, 2, 3, 7, 8, 10]"
            ]
          },
          "metadata": {},
          "execution_count": 2
        }
      ]
    },
    {
      "cell_type": "code",
      "metadata": {
        "colab": {
          "base_uri": "https://localhost:8080/"
        },
        "id": "bJCWWGDBvKX-",
        "outputId": "13ecd6f2-788b-44f4-af13-02d9cc29302a"
      },
      "source": [
        "# Transfere o menor valor para a primeira posição, o segundo menor valor para a segunda posição e assim por diante\n",
        "\n",
        "print('Selection sort')\n",
        "# Esse algoritmo é lento para ordenação de grandes listas. Ele é do tipo Complexidade O(N2)\n",
        "# Algoritmo de ordenação por seleção (Seleção pelo valor mínimo)\n",
        "def executar_selection_sort(lista):\n",
        "  n = len(lista)  # Tamanho da lista\n",
        "\n",
        "  for i in range(0, n-1): # Para i dentro do range de 0 até o tamanho da lista menos 1\n",
        "    min = i # min recebe o valor de i\n",
        "    for j in range(i+1, n):  #Para j dentro de range de valor de i menos 1 até o tamanho da lista\n",
        "      if lista[j] < lista[min]: # Se lista na posição j for menor que lista na posição min\n",
        "        min = j # min recebe j\n",
        "    lista[i], lista[min] = lista[min], lista[i]  #Troca as posições \n",
        "  return lista\n",
        "\n",
        "lista = [10, 8, 7, 3, 2, 1]\n",
        "executar_selection_sort(lista)        "
      ],
      "execution_count": 5,
      "outputs": [
        {
          "output_type": "stream",
          "name": "stdout",
          "text": [
            "Selection sort\n"
          ]
        },
        {
          "output_type": "execute_result",
          "data": {
            "text/plain": [
              "[1, 2, 3, 7, 8, 10]"
            ]
          },
          "metadata": {},
          "execution_count": 5
        }
      ]
    },
    {
      "cell_type": "code",
      "metadata": {
        "colab": {
          "base_uri": "https://localhost:8080/"
        },
        "id": "z3-dlSiNykb7",
        "outputId": "44de793b-3ba9-4102-c48d-6e33327416cf"
      },
      "source": [
        "#Percorre o vetor ou lista multiplas vezes, a cada passagem, os pares são ordenados\n",
        "\n",
        "print('Bubble sort')\n",
        "# Esse algoritmo é lento para ordenação de grandes listas. Ele é do tipo Complexidade O(N2)\n",
        "# Algoritmo de ordenação por bolha\n",
        "\n",
        "def executar_bubble_sort(lista):\n",
        "  n = len(lista)\n",
        "\n",
        "  for i in range(n-1):  #Para i em range tamanho da lista menos 1\n",
        "    for j in range(n-1):  #Para j em range tamanho da lista menos 1\n",
        "      if lista[j] > lista[j+1]:  # Se lista na posição j for maior que lista na posição j+1\n",
        "        lista[j], lista[j+1] = lista[j+1], lista[j]  # Troca de posição\n",
        "  return lista\n",
        "\n",
        "lista = [10, 8, 7, 3, 2, 1]\n",
        "executar_bubble_sort(lista)        "
      ],
      "execution_count": 6,
      "outputs": [
        {
          "output_type": "stream",
          "name": "stdout",
          "text": [
            "Bubble sort\n"
          ]
        },
        {
          "output_type": "execute_result",
          "data": {
            "text/plain": [
              "[1, 2, 3, 7, 8, 10]"
            ]
          },
          "metadata": {},
          "execution_count": 6
        }
      ]
    },
    {
      "cell_type": "code",
      "metadata": {
        "colab": {
          "base_uri": "https://localhost:8080/"
        },
        "id": "nQZeYuMG2dOe",
        "outputId": "328692a6-cf1d-4262-a3f5-45de7bffff18"
      },
      "source": [
        "#Baseado no princípio de dividir para conquistar\n",
        "\n",
        "print('Merge sort')\n",
        "#Esses algoritmos possuem desempenho superior porém de maior complexidade em sua implantação\n",
        "# Faz parte da complexidade O (N log N)\n",
        "\n",
        "def executar_merge_sort(lista):\n",
        "  if len(lista) <= 1: return lista\n",
        "  else:\n",
        "    meio = len(lista) // 2\n",
        "    esquerda = executar_merge_sort(lista[:meio])\n",
        "    direita = executar_merge_sort(lista[meio:])\n",
        "    return executar_merge(esquerda, direita)\n",
        "\n",
        "def executar_merge(esquerda, direita):\n",
        "  sub_lista_ordenada = []\n",
        "  topo_esquerda, topo_direita = 0, 0\n",
        "  while topo_esquerda < len(esquerda) and topo_direita < len(direita):\n",
        "    if esquerda[topo_esquerda]  <= direita[topo_direita]:\n",
        "      sub_lista_ordenada.append(esquerda[topo_esquerda])\n",
        "      topo_esquerda +=1\n",
        "    else:\n",
        "      sub_lista_ordenada.append(direita[topo_direita])\n",
        "      topo_direita +=1\n",
        "\n",
        "  sub_lista_ordenada += esquerda[topo_esquerda:]\n",
        "  sub_lista_ordenada += direita[topo_direita:]   \n",
        "  return sub_lista_ordenada\n",
        "\n",
        "lista = [10, 8, 7, 3, 2, 1]\n",
        "executar_merge_sort(lista)  \n"
      ],
      "execution_count": 7,
      "outputs": [
        {
          "output_type": "stream",
          "name": "stdout",
          "text": [
            "Merge sort\n"
          ]
        },
        {
          "output_type": "execute_result",
          "data": {
            "text/plain": [
              "[1, 2, 3, 7, 8, 10]"
            ]
          },
          "metadata": {},
          "execution_count": 7
        }
      ]
    },
    {
      "cell_type": "code",
      "metadata": {
        "colab": {
          "base_uri": "https://localhost:8080/"
        },
        "id": "l-QASgcp8bb6",
        "outputId": "e39ecb77-ea70-4040-c57c-11f60392fb0f"
      },
      "source": [
        "# Aqui temos um pivô que será usado como base\n",
        "\n",
        "print('Quicksort')\n",
        "#Esses algoritmos possuem desempenho superior porém de maior complexidade em sua implantação\n",
        "# Faz parte da complexidade O (N log N)\n",
        "\n",
        "def executar_quicksort(lista, inicio, fim):\n",
        "  if inicio < fim:\n",
        "    pivo = executar_particao(lista, inicio, fim)\n",
        "    executar_quicksort(lista, inicio, pivo-1)\n",
        "    executar_quicksort(lista, pivo+1, fim)\n",
        "  return lista\n",
        "\n",
        "def executar_particao(lista, inicio, fim):\n",
        "  pivo = lista[fim]\n",
        "  esquerda = inicio\n",
        "  for direita in range(inicio, fim):\n",
        "    if lista[direita] <= pivo:\n",
        "      lista[direita], lista[esquerda] = lista[esquerda], lista[direita]\n",
        "      esquerda +=1\n",
        "  return esquerda \n",
        "\n",
        "lista = [10, 9, 5, 8, 11, -1, 3]\n",
        "executar_quicksort(lista, inicio = 0, fim = len(lista) - 1)    \n"
      ],
      "execution_count": 8,
      "outputs": [
        {
          "output_type": "stream",
          "name": "stdout",
          "text": [
            "Quicksort\n"
          ]
        },
        {
          "output_type": "execute_result",
          "data": {
            "text/plain": [
              "[-1, 9, 5, 8, 11, 10, 3]"
            ]
          },
          "metadata": {},
          "execution_count": 8
        }
      ]
    }
  ]
}