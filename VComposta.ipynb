{
  "nbformat": 4,
  "nbformat_minor": 0,
  "metadata": {
    "colab": {
      "name": "VComposta.ipynb",
      "provenance": [],
      "collapsed_sections": [],
      "authorship_tag": "ABX9TyO6j8gyEdVQ+kCqhEyVMtZf",
      "include_colab_link": true
    },
    "kernelspec": {
      "name": "python3",
      "display_name": "Python 3"
    }
  },
  "cells": [
    {
      "cell_type": "markdown",
      "metadata": {
        "id": "view-in-github",
        "colab_type": "text"
      },
      "source": [
        "<a href=\"https://colab.research.google.com/github/Jnfagundes/estudoproj/blob/master/VComposta.ipynb\" target=\"_parent\"><img src=\"https://colab.research.google.com/assets/colab-badge.svg\" alt=\"Open In Colab\"/></a>"
      ]
    },
    {
      "cell_type": "code",
      "metadata": {
        "id": "0Wdfwvp5prGs",
        "colab": {
          "base_uri": "https://localhost:8080/"
        },
        "outputId": "92802b0a-0e60-4dc3-cbe2-f405755131ee"
      },
      "source": [
        "print('Variáveis compostas TUPLAS')\n",
        "print('Tuplas são variáveis compostas não mutáveis, ou seja, não aceita alteração')\n",
        "print('Toda tupla fica entre parenteses')\n",
        "lanche = ('Hambúrguer', 'Suco', 'Pizza', 'Pudim', 'Batata frita')\n",
        "print('1º',lanche)\n",
        "print('2º',lanche [1]) # Entre colchetes está o fatiamento\n",
        "print('3º',lanche[1:3])\n",
        "print('4º',lanche[2:])\n",
        "print('5º',lanche[:2])\n",
        "print('6º',lanche[-2])\n",
        "print('a minha tupla tem: ', len(lanche), 'itens.')\n",
        "print('-='* 20)\n",
        "for comida in lanche:\n",
        "  print(f'Eu vou comer {comida}!')\n",
        "print('-='* 20)  \n",
        "for cont in range(0, len(lanche)):\n",
        "  print(f'Eu vou comer {lanche[cont]} na posição {cont+1}') \n",
        "print('-='* 20)  \n",
        "for pos, comida in enumerate(lanche):\n",
        "  print(f'Vou comer {comida} na posição {pos}')   \n",
        "print('-='* 20)  \n",
        "print(sorted(lanche)) # Imprime a tupla em ordem\n",
        "print('-='* 20)\n",
        "\n"
      ],
      "execution_count": null,
      "outputs": [
        {
          "output_type": "stream",
          "text": [
            "Variáveis compostas TUPLAS\n",
            "Tuplas são variáveis compostas não mutáveis, ou seja, não aceita alteração\n",
            "Toda tupla fica entre parenteses\n",
            "1º ('Hambúrguer', 'Suco', 'Pizza', 'Pudim', 'Batata frita')\n",
            "2º Suco\n",
            "3º ('Suco', 'Pizza')\n",
            "4º ('Pizza', 'Pudim', 'Batata frita')\n",
            "5º ('Hambúrguer', 'Suco')\n",
            "6º Pudim\n",
            "a minha tupla tem:  5 itens.\n",
            "-=-=-=-=-=-=-=-=-=-=-=-=-=-=-=-=-=-=-=-=\n",
            "Eu vou comer Hambúrguer!\n",
            "Eu vou comer Suco!\n",
            "Eu vou comer Pizza!\n",
            "Eu vou comer Pudim!\n",
            "Eu vou comer Batata frita!\n",
            "-=-=-=-=-=-=-=-=-=-=-=-=-=-=-=-=-=-=-=-=\n",
            "Eu vou comer Hambúrguer na posição 1\n",
            "Eu vou comer Suco na posição 2\n",
            "Eu vou comer Pizza na posição 3\n",
            "Eu vou comer Pudim na posição 4\n",
            "Eu vou comer Batata frita na posição 5\n",
            "-=-=-=-=-=-=-=-=-=-=-=-=-=-=-=-=-=-=-=-=\n",
            "Vou comer Hambúrguer na posição 0\n",
            "Vou comer Suco na posição 1\n",
            "Vou comer Pizza na posição 2\n",
            "Vou comer Pudim na posição 3\n",
            "Vou comer Batata frita na posição 4\n",
            "-=-=-=-=-=-=-=-=-=-=-=-=-=-=-=-=-=-=-=-=\n",
            "['Batata frita', 'Hambúrguer', 'Pizza', 'Pudim', 'Suco']\n",
            "-=-=-=-=-=-=-=-=-=-=-=-=-=-=-=-=-=-=-=-=\n"
          ],
          "name": "stdout"
        }
      ]
    },
    {
      "cell_type": "code",
      "metadata": {
        "colab": {
          "base_uri": "https://localhost:8080/"
        },
        "id": "D9RANkhUrmdx",
        "outputId": "96fdd48d-baec-45b5-8256-45a798671218"
      },
      "source": [
        "a = (2, 5, 4)\n",
        "b = (5, 8, 1, 2)\n",
        "c = a + b\n",
        "print(c)\n",
        "print('O comprimento da tupla c é ',len(c))\n",
        "print('Quantas vezes aparece o 5 na tupla c? ',c.count(5))\n",
        "print('Em que posição está o 8? ', c.index(8))\n",
        "\n"
      ],
      "execution_count": null,
      "outputs": [
        {
          "output_type": "stream",
          "text": [
            "(2, 5, 4, 5, 8, 1, 2)\n",
            "O comprimento da tupla c é  7\n",
            "Quantas vezes aparece o 5 na tupla c?  2\n",
            "Em que posição está o 8?  4\n"
          ],
          "name": "stdout"
        }
      ]
    },
    {
      "cell_type": "code",
      "metadata": {
        "colab": {
          "base_uri": "https://localhost:8080/"
        },
        "id": "UeoMEdn9tEpz",
        "outputId": "c2abd210-7360-4f81-c6d6-51a4c276ffbd"
      },
      "source": [
        "pessoa = ('Gustavo', 39, 'M', 99.88)\n",
        " #del(pessoa): Esse comando apaga tupla\n",
        "print(pessoa)\n"
      ],
      "execution_count": null,
      "outputs": [
        {
          "output_type": "stream",
          "text": [
            "('Gustavo', 39, 'M', 99.88)\n"
          ],
          "name": "stdout"
        }
      ]
    },
    {
      "cell_type": "code",
      "metadata": {
        "colab": {
          "base_uri": "https://localhost:8080/"
        },
        "id": "BsKVwTr7CPo5",
        "outputId": "ce27331e-7998-44af-b325-3ad2a7097e72"
      },
      "source": [
        "print('====== Exercício 72 ======')\n",
        "contagem = ('zero', 'um','dois', 'três', 'quatro', 'cinco', 'seis', 'sete', 'oito',\n",
        "'nove', 'dez', 'onze', 'doze', ' treze', 'quatorze', 'quinze', 'dezesseis', 'dezessete', \n",
        "'dezoito', ' dezenove', 'vinte')\n",
        "escolha = int(input('Digite um valor entre 0 e 20: '))\n",
        "while escolha < 0 or escolha > 20:\n",
        "  print('Opção inválida.')\n",
        "  escolha = int(input('Digite um valor entre 0 e 20: '))\n",
        "print('Você digitou: ',contagem[escolha]) # Nesse comando, o escolha recebeu a posição na tupla\n"
      ],
      "execution_count": null,
      "outputs": [
        {
          "output_type": "stream",
          "text": [
            "====== Exercício 72 ======\n",
            "Digite um valor entre 0 e 20: 33\n",
            "Opção inválida.\n",
            "Digite um valor entre 0 e 20: 3\n",
            "Você digitou:  três\n"
          ],
          "name": "stdout"
        }
      ]
    },
    {
      "cell_type": "code",
      "metadata": {
        "colab": {
          "base_uri": "https://localhost:8080/"
        },
        "id": "8lqMkRSmVnZX",
        "outputId": "2011b91c-3ea9-4b3e-f373-0ee9b8700d84"
      },
      "source": [
        "print('====== Exercício 72 Resolvido pelo C.E.V ======')\n",
        "contagem = ('zero', 'um','dois', 'três', 'quatro', 'cinco', 'seis', 'sete', 'oito',\n",
        "'nove', 'dez', 'onze', 'doze', ' treze', 'quatorze', 'quinze', 'dezesseis', 'dezessete', \n",
        "'dezoito', ' dezenove', 'vinte')\n",
        "while True: \n",
        "  escolha = int(input('Digite um valor entre 0 e 20: '))\n",
        "  if 0 <= escolha <= 20:\n",
        "    break\n",
        "  print('Tente novamente. ', end = ' ')\n",
        "print(f'Você digitou o número {contagem[escolha]}')  \n"
      ],
      "execution_count": null,
      "outputs": [
        {
          "output_type": "stream",
          "text": [
            "====== Exercício 72 Resolvido pelo C.E.V ======\n",
            "Digite um valor entre 0 e 20: 31\n",
            "Tente novamente.  Digite um valor entre 0 e 20: 23\n",
            "Tente novamente.  Digite um valor entre 0 e 20: 4\n",
            "Você digitou o número quatro\n"
          ],
          "name": "stdout"
        }
      ]
    },
    {
      "cell_type": "code",
      "metadata": {
        "colab": {
          "base_uri": "https://localhost:8080/"
        },
        "id": "pjCuZzj7W_GO",
        "outputId": "45b2446a-3f88-4039-839d-2c33117b07ac"
      },
      "source": [
        "print('====== Exercício 72 melhoramento ======')\n",
        "contagem = ('zero', 'um','dois', 'três', 'quatro', 'cinco', 'seis', 'sete', 'oito',\n",
        "'nove', 'dez', 'onze', 'doze', ' treze', 'quatorze', 'quinze', 'dezesseis', 'dezessete', \n",
        "'dezoito', ' dezenove', 'vinte')\n",
        "while True: \n",
        "  while True:\n",
        "    escolha = int(input('Digite um valor entre 0 e 20: '))\n",
        "    if 0 <= escolha <= 20:\n",
        "      break\n",
        "    print('Tente novamente. ', end = ' ')\n",
        "  print(f'Você digitou o número {contagem[escolha]}')  \n",
        "  print('-='* 20)\n",
        "  mais = ' '\n",
        "  while mais not in 'SN':\n",
        "    mais = str(input('Deseja continuar? [S/N]')).upper().strip()\n",
        "  if mais == 'N':\n",
        "    break\n",
        "print('Encerrado pelo usuário')    \n",
        " \n"
      ],
      "execution_count": null,
      "outputs": [
        {
          "output_type": "stream",
          "text": [
            "====== Exercício 72 melhoramento ======\n",
            "Digite um valor entre 0 e 20: 21\n",
            "Tente novamente.  Digite um valor entre 0 e 20: 12\n",
            "Você digitou o número doze\n",
            "-=-=-=-=-=-=-=-=-=-=-=-=-=-=-=-=-=-=-=-=\n",
            "Deseja continuar? [S/N]a\n",
            "Deseja continuar? [S/N]d\n",
            "Deseja continuar? [S/N]s\n",
            "Digite um valor entre 0 e 20: 10\n",
            "Você digitou o número dez\n",
            "-=-=-=-=-=-=-=-=-=-=-=-=-=-=-=-=-=-=-=-=\n",
            "Deseja continuar? [S/N]n\n",
            "Encerrado pelo usuário\n"
          ],
          "name": "stdout"
        }
      ]
    },
    {
      "cell_type": "code",
      "metadata": {
        "colab": {
          "base_uri": "https://localhost:8080/"
        },
        "id": "Ks6oUlB2ckjD",
        "outputId": "9c88f37f-09ab-4c6f-bb84-b0d20b72972b"
      },
      "source": [
        "print('====== Exercício 73 ======')\n",
        "colocação = ('São Paulo', 'Internacional', 'Atlético - MG', 'Flamengo', \n",
        "             'Grêmio', 'Palmeiras', 'Fluminense', 'Santos', 'Corinthians',\n",
        "             'Athetico - PR', 'Ceará', 'Atlético - GO', 'Bragantino', 'Sport Recife',\n",
        "             'Fortaleza', 'Vasco da Gama', 'Bahia', 'Goiás', 'Botafogo', 'Coritiba')\n",
        "print('Os cinco primeiros colocados são:')\n",
        "cont = 0\n",
        "while cont <= 4:\n",
        "  print(f'{cont+1}º --------------- {colocação[cont]}')\n",
        "  cont += 1\n",
        "print('='*30)\n",
        "print('Os times do Z-4 são:')\n",
        "cont = 20\n",
        "p = 19\n",
        "while cont > 16:\n",
        "  print(f'{cont}º -------------- {colocação[p]}')\n",
        "  p -= 1\n",
        "  cont -= 1\n",
        "print('='*30)\n",
        "print('Os times em ordem alfabética são:')\n",
        "print(sorted(colocação))\n",
        "print('='*30)\n",
        "posi = colocação.index('Palmeiras')\n",
        "print(f'O Palmeiras está no {posi + 1}º lugar ' )\n",
        "print('='*30)\n",
        "print('========== Tabela completa ==========')\n",
        "c = 0\n",
        "while c <= 19:\n",
        "  print(f'{c+1}º --------------- {colocação[c]}')\n",
        "  c += 1\n",
        "print('Fim da execução.')\n",
        "\n"
      ],
      "execution_count": null,
      "outputs": [
        {
          "output_type": "stream",
          "text": [
            "====== Exercício 73 ======\n",
            "Os cinco primeiros colocados são:\n",
            "1º --------------- São Paulo\n",
            "2º --------------- Internacional\n",
            "3º --------------- Atlético - MG\n",
            "4º --------------- Flamengo\n",
            "5º --------------- Grêmio\n",
            "==============================\n",
            "Os times do Z-4 são:\n",
            "20º -------------- Coritiba\n",
            "19º -------------- Botafogo\n",
            "18º -------------- Goiás\n",
            "17º -------------- Bahia\n",
            "==============================\n",
            "Os times em ordem alfabética são:\n",
            "['Athetico - PR', 'Atlético - GO', 'Atlético - MG', 'Bahia', 'Botafogo', 'Bragantino', 'Ceará', 'Corinthians', 'Coritiba', 'Flamengo', 'Fluminense', 'Fortaleza', 'Goiás', 'Grêmio', 'Internacional', 'Palmeiras', 'Santos', 'Sport Recife', 'São Paulo', 'Vasco da Gama']\n",
            "==============================\n",
            "O Palmeiras está no 6º lugar \n",
            "==============================\n",
            "========== Tabela completa ==========\n",
            "1º --------------- São Paulo\n",
            "2º --------------- Internacional\n",
            "3º --------------- Atlético - MG\n",
            "4º --------------- Flamengo\n",
            "5º --------------- Grêmio\n",
            "6º --------------- Palmeiras\n",
            "7º --------------- Fluminense\n",
            "8º --------------- Santos\n",
            "9º --------------- Corinthians\n",
            "10º --------------- Athetico - PR\n",
            "11º --------------- Ceará\n",
            "12º --------------- Atlético - GO\n",
            "13º --------------- Bragantino\n",
            "14º --------------- Sport Recife\n",
            "15º --------------- Fortaleza\n",
            "16º --------------- Vasco da Gama\n",
            "17º --------------- Bahia\n",
            "18º --------------- Goiás\n",
            "19º --------------- Botafogo\n",
            "20º --------------- Coritiba\n",
            "Fim da execução.\n"
          ],
          "name": "stdout"
        }
      ]
    },
    {
      "cell_type": "code",
      "metadata": {
        "colab": {
          "base_uri": "https://localhost:8080/"
        },
        "id": "LBLxCeNxQl34",
        "outputId": "e8d6193c-3278-49f8-e674-90173becde68"
      },
      "source": [
        "from random import randint\n",
        "print('====== Exercício 74 ======')\n",
        "nu = (randint(0,50), randint(0,50), randint(0,50),randint(0,50), randint(0,50) )\n",
        "print('Foram sorteados os valores: ', end=' ')\n",
        "for n in nu:\n",
        "  print(f'{n} ', end=' ')\n",
        "print(f'\\nO maior valor sorteado foi: {max(nu)}')\n",
        "print(f'O menor valor sorteado foi: {min(nu)}')  \n"
      ],
      "execution_count": null,
      "outputs": [
        {
          "output_type": "stream",
          "text": [
            "====== Exercício 74 ======\n",
            "Foram sorteados os valores:  26  11  48  19  38  \n",
            "O maior valor sorteado foi: 48\n",
            "O menor valor sorteado foi: 11\n"
          ],
          "name": "stdout"
        }
      ]
    },
    {
      "cell_type": "code",
      "metadata": {
        "colab": {
          "base_uri": "https://localhost:8080/"
        },
        "id": "tYb8OVyZbvsn",
        "outputId": "112d085c-8ebf-4e7b-d7dd-a71c255c3998"
      },
      "source": [
        "print('====== Exercício 75 ======')\n",
        "n1 = int(input('Digite um valor: '))\n",
        "n2 = int(input('Um segundo valor: '))\n",
        "n3 = int(input('Agora um terceiro valor: '))\n",
        "n4 = int(input('E por fim mais um valor: '))\n",
        "tu =(n1, n2, n3, n4)\n",
        "print('você digitou a seguinte sequência: ')\n",
        "cont = 0 \n",
        "for n in tu:\n",
        "  print(f'{n} ', end=' ')\n",
        "  if n % 2 == 0 :\n",
        "    cont += 1\n",
        "print(f'\\nO número 9 aparece {tu.count(9)} vezes na sequência.')  \n",
        "if 3 in tu:\n",
        "  print(f'O número 3 apareceu na {(n.index(3))+1}º posição ')\n",
        "else:\n",
        "  print('O valor 3 não foi digitado.') \n",
        "print(f'Tivemos {cont} números pares')\n",
        "\n",
        "\n"
      ],
      "execution_count": null,
      "outputs": [
        {
          "output_type": "stream",
          "text": [
            "====== Exercício 75 ======\n",
            "Digite um valor: 4\n",
            "Um segundo valor: 6\n",
            "Agora um terceiro valor: 1\n",
            "E por fim mais um valor: 8\n",
            "você digitou a seguinte sequência: \n",
            "4  6  1  8  \n",
            "O número 9 aparece 0 vezes na sequência.\n",
            "O valor 3 não foi digitado.\n",
            "Tivemos 3 números pares\n"
          ],
          "name": "stdout"
        }
      ]
    },
    {
      "cell_type": "code",
      "metadata": {
        "colab": {
          "base_uri": "https://localhost:8080/"
        },
        "id": "NIrrTlJ1lLV4",
        "outputId": "09243442-3304-44e5-9f11-81aff5f216b7"
      },
      "source": [
        "print('====== Exercício 75 resolvido pelo C.E.V ======')\n",
        "n = (int(input('Digite um valor: ')),\n",
        "     int(input('Um segundo valor: ')),\n",
        "     int(input('Agora um terceiro valor: ')),\n",
        "     int(input('E por fim mais um valor: ')))\n",
        "cont = 0\n",
        "for c in n:\n",
        "  if c % 2 == 0 :\n",
        "    cont += 1\n",
        "print(f'\\nO número 9 aparece {n.count(9)} vezes na sequência.')  \n",
        "if 3 in n:\n",
        "  print(f'O número 3 apareceu na {(n.index(3))+1}º posição ')\n",
        "else:\n",
        "  print('O valor 3 não foi digitado.')  \n",
        "print(f'Tivemos {cont} números pares')\n"
      ],
      "execution_count": null,
      "outputs": [
        {
          "output_type": "stream",
          "text": [
            "====== Exercício 75 resolvido pelo C.E.V ======\n",
            "Digite um valor: 4\n",
            "Um segundo valor: 6\n",
            "Agora um terceiro valor: 8\n",
            "E por fim mais um valor: 9\n",
            "\n",
            "O número 9 aparece 1 vezes na sequência.\n",
            "O valor 3 não foi digitado.\n",
            "Tivemos 3 números pares\n"
          ],
          "name": "stdout"
        }
      ]
    },
    {
      "cell_type": "code",
      "metadata": {
        "colab": {
          "base_uri": "https://localhost:8080/"
        },
        "id": "IKVqqWHtp9H-",
        "outputId": "c0f46350-3741-41f7-a183-ae05983817ff"
      },
      "source": [
        "print('====== Exercício 76 ======')\n",
        "prod = ('Arroz', 22.99, 'Feijão', 6.75, 'Açucar', 12.99, 'Macarrão', 3.65)\n",
        "print('=='* 20)\n",
        "print(f'{\"LISTA DE PRODUTOS\":^40}')\n",
        "print('=='* 20)\n",
        "for p in range(0, len(prod)):\n",
        "  if p % 2 == 0:\n",
        "    print(f'{prod[p]:.<30}', end='')\n",
        "  else:\n",
        "    print(f'R${prod[p]:>5.2f}')  \n",
        "print('=='* 20)\n"
      ],
      "execution_count": null,
      "outputs": [
        {
          "output_type": "stream",
          "text": [
            "====== Exercício 76 ======\n",
            "========================================\n",
            "           LISTA DE PRODUTOS            \n",
            "========================================\n",
            "Arroz.........................R$22.99\n",
            "Feijão........................R$ 6.75\n",
            "Açucar........................R$12.99\n",
            "Macarrão......................R$ 3.65\n",
            "========================================\n"
          ],
          "name": "stdout"
        }
      ]
    },
    {
      "cell_type": "code",
      "metadata": {
        "colab": {
          "base_uri": "https://localhost:8080/"
        },
        "id": "uLFUbmdE8OCo",
        "outputId": "bfd1a03d-9a23-4ed4-e185-c4a49b1d06fd"
      },
      "source": [
        "print('====== Exercício 77 ======')\n",
        "palavras = ('Aprender', 'Programar', 'linguagem')\n",
        "for pa in palavras:\n",
        "  print(f'\\nNa palavra {pa.upper()} temos', end=' ')\n",
        "  for letra in pa:\n",
        "    if letra.lower() in 'aeiou':\n",
        "      print(letra, end=' ')\n"
      ],
      "execution_count": null,
      "outputs": [
        {
          "output_type": "stream",
          "text": [
            "====== Exercício 76 ======\n",
            "\n",
            "Na palavra APRENDER temos A e e \n",
            "Na palavra PROGRAMAR temos o a a \n",
            "Na palavra LINGUAGEM temos i u a e "
          ],
          "name": "stdout"
        }
      ]
    }
  ]
}