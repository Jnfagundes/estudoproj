{
  "nbformat": 4,
  "nbformat_minor": 0,
  "metadata": {
    "colab": {
      "name": "VisualizaçãoDeDados.ipynb",
      "provenance": [],
      "authorship_tag": "ABX9TyMDhhD8uzxUveEzo0/HJcxi",
      "include_colab_link": true
    },
    "kernelspec": {
      "name": "python3",
      "display_name": "Python 3"
    },
    "language_info": {
      "name": "python"
    }
  },
  "cells": [
    {
      "cell_type": "markdown",
      "metadata": {
        "id": "view-in-github",
        "colab_type": "text"
      },
      "source": [
        "<a href=\"https://colab.research.google.com/github/Jnfagundes/estudoproj/blob/master/Visualiza%C3%A7%C3%A3oDeDados.ipynb\" target=\"_parent\"><img src=\"https://colab.research.google.com/assets/colab-badge.svg\" alt=\"Open In Colab\"/></a>"
      ]
    },
    {
      "cell_type": "code",
      "metadata": {
        "id": "seIgpSiCX1ck"
      },
      "source": [
        "! pip install matplotlib\n",
        "import matplotlib \n",
        "print('Visualização de dados com matplotlib')\n",
        "\n",
        "fig, ax = plt. Subplots (1, 2)\n",
        " \n",
        "Dados = range(S)\n",
        " \n",
        "ax[0].plot(dados)\n",
        "ax[1].plot(dados)"
      ],
      "execution_count": null,
      "outputs": []
    }
  ]
}