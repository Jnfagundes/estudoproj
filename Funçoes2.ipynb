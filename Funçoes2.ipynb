{
  "nbformat": 4,
  "nbformat_minor": 0,
  "metadata": {
    "colab": {
      "name": "Funçoes2.ipynb",
      "provenance": [],
      "collapsed_sections": [],
      "authorship_tag": "ABX9TyORI+C/ku6eE7yXxOPdmuaa",
      "include_colab_link": true
    },
    "kernelspec": {
      "name": "python3",
      "display_name": "Python 3"
    }
  },
  "cells": [
    {
      "cell_type": "markdown",
      "metadata": {
        "id": "view-in-github",
        "colab_type": "text"
      },
      "source": [
        "<a href=\"https://colab.research.google.com/github/Jnfagundes/estudoproj/blob/master/Fun%C3%A7oes2.ipynb\" target=\"_parent\"><img src=\"https://colab.research.google.com/assets/colab-badge.svg\" alt=\"Open In Colab\"/></a>"
      ]
    },
    {
      "cell_type": "code",
      "metadata": {
        "colab": {
          "base_uri": "https://localhost:8080/"
        },
        "id": "V_3IMQEfjC_X",
        "outputId": "7873e40d-16f4-45fa-d791-df732df519fb"
      },
      "source": [
        "  help(print)"
      ],
      "execution_count": null,
      "outputs": [
        {
          "output_type": "stream",
          "text": [
            "Help on built-in function print in module builtins:\n",
            "\n",
            "print(...)\n",
            "    print(value, ..., sep=' ', end='\\n', file=sys.stdout, flush=False)\n",
            "    \n",
            "    Prints the values to a stream, or to sys.stdout by default.\n",
            "    Optional keyword arguments:\n",
            "    file:  a file-like object (stream); defaults to the current sys.stdout.\n",
            "    sep:   string inserted between values, default a space.\n",
            "    end:   string appended after the last value, default a newline.\n",
            "    flush: whether to forcibly flush the stream.\n",
            "\n"
          ],
          "name": "stdout"
        }
      ]
    },
    {
      "cell_type": "code",
      "metadata": {
        "colab": {
          "base_uri": "https://localhost:8080/"
        },
        "id": "6ay7AbbFn_nu",
        "outputId": "bdc81a80-3162-4d54-b072-120dc4eb2efe"
      },
      "source": [
        "def soma(a, b, c):\n",
        "  \"\"\"\n",
        "  Faz a soma de três valores.\n",
        "  :valor a\n",
        "  :valor b\n",
        "  :valor c\n",
        "  \"\"\" \n",
        "  s = a + b + c \n",
        "  print(f'A soma é {s}')\n",
        "\n",
        "help(soma)\n",
        "  "
      ],
      "execution_count": null,
      "outputs": [
        {
          "output_type": "stream",
          "text": [
            "Help on function soma in module __main__:\n",
            "\n",
            "soma(a, b, c)\n",
            "    Faz a soma de três valores.\n",
            "    :valor a\n",
            "    :valor b\n",
            "    :valor c\n",
            "\n"
          ],
          "name": "stdout"
        }
      ]
    },
    {
      "cell_type": "code",
      "metadata": {
        "colab": {
          "base_uri": "https://localhost:8080/"
        },
        "id": "aZQebCqbsDnU",
        "outputId": "ed2f108f-9e66-4763-96ff-d6a17e967f72"
      },
      "source": [
        "help(sum)"
      ],
      "execution_count": null,
      "outputs": [
        {
          "output_type": "stream",
          "text": [
            "Help on built-in function sum in module builtins:\n",
            "\n",
            "sum(iterable, start=0, /)\n",
            "    Return the sum of a 'start' value (default: 0) plus an iterable of numbers\n",
            "    \n",
            "    When the iterable is empty, return the start value.\n",
            "    This function is intended specifically for use with numeric values and may\n",
            "    reject non-numeric types.\n",
            "\n"
          ],
          "name": "stdout"
        }
      ]
    },
    {
      "cell_type": "code",
      "metadata": {
        "id": "DaGGH4lLss2E"
      },
      "source": [
        "def somar(a, b, c = 0): # O c=0 é chamado de parâmetro opcional.\n",
        "  s = a + b + c \n",
        "  print(f'A soma vale {s}')\n"
      ],
      "execution_count": null,
      "outputs": []
    },
    {
      "cell_type": "code",
      "metadata": {
        "colab": {
          "base_uri": "https://localhost:8080/"
        },
        "id": "UZqv6wNQuK_6",
        "outputId": "ff6b6af3-24f6-4173-f3cb-847557b235c9"
      },
      "source": [
        "def teste():\n",
        "  x = 8 # variável local\n",
        "  print(f'Na função teste, n vale {n}')\n",
        "  print(f'Na função teste x vale {x}')\n",
        "\n",
        "n=2 # variável global\n",
        "print(f'No programa principal n vale {n}')\n",
        "teste()  "
      ],
      "execution_count": null,
      "outputs": [
        {
          "output_type": "stream",
          "text": [
            "No programa principal n vale 2\n",
            "Na função teste, n vale 2\n",
            "Na função teste x vale 8\n"
          ],
          "name": "stdout"
        }
      ]
    },
    {
      "cell_type": "code",
      "metadata": {
        "colab": {
          "base_uri": "https://localhost:8080/"
        },
        "id": "HnjI4BCWvlwu",
        "outputId": "f50ea476-2c74-47b4-fe5b-795763714007"
      },
      "source": [
        "def teste(b):\n",
        "  b += 4\n",
        "  c = 2\n",
        "  print(f'<< a >> dentro vale {a}')\n",
        "  print(f'<< b >> dentro vale {b}')\n",
        "  print(f'<< c >> dentro vale {c}')\n",
        "\n",
        "a = 5\n",
        "print(f'<< a >> fora vale {a} ')\n",
        "teste(a)  \n"
      ],
      "execution_count": null,
      "outputs": [
        {
          "output_type": "stream",
          "text": [
            "<< a >> fora vale 5 \n",
            "<< a >> dentro vale 5\n",
            "<< b >> dentro vale 9\n",
            "<< c >> dentro vale 2\n"
          ],
          "name": "stdout"
        }
      ]
    },
    {
      "cell_type": "code",
      "metadata": {
        "colab": {
          "base_uri": "https://localhost:8080/"
        },
        "id": "Q9iyhFOa09ju",
        "outputId": "74a8e754-c5ee-469f-c3d6-033d1f205e3c"
      },
      "source": [
        "def somar(a=0, b=0, c=0):\n",
        "  s = a + b + c\n",
        "  return s\n",
        "\n",
        "r1 = somar(3, 2, 5) \n",
        "r2 = somar(1, 7)\n",
        "r3 = somar(4)\n",
        "print(f'Meus cálculos deram {r1}, {r2} e {r3}') "
      ],
      "execution_count": null,
      "outputs": [
        {
          "output_type": "stream",
          "text": [
            "Meus cálculos deram 10, 8 e 4\n"
          ],
          "name": "stdout"
        }
      ]
    },
    {
      "cell_type": "code",
      "metadata": {
        "colab": {
          "base_uri": "https://localhost:8080/"
        },
        "id": "jsf-wQ452Utl",
        "outputId": "c4ada89c-d983-4840-8974-72414dc0e97b"
      },
      "source": [
        "def fatorial(num=1):\n",
        "  f = 1\n",
        "  for c in range(num, 0, -1):\n",
        "    f *= c\n",
        "  return f\n",
        "\n",
        "n = int(input('Digite um número: '))\n",
        "print(f'O {n}! é igual a: {fatorial(n)}') \n"
      ],
      "execution_count": null,
      "outputs": [
        {
          "output_type": "stream",
          "text": [
            "Digite um número: 9\n",
            "O 9! é igual a: 362880\n"
          ],
          "name": "stdout"
        }
      ]
    },
    {
      "cell_type": "code",
      "metadata": {
        "colab": {
          "base_uri": "https://localhost:8080/"
        },
        "id": "iASkZrhzLXw6",
        "outputId": "8d954f84-c2d0-4a28-8a4c-5bbf6437a3c2"
      },
      "source": [
        "print('====== Exercício 101 ======')\n",
        "def voto(nasc):\n",
        "  from datetime import datetime\n",
        "  idade = datetime.now().year - nasc\n",
        "  if idade < 16:\n",
        "   return print(f'Você tem apenas {idade}, portando seu direito a voto está NEGADO.')\n",
        "  elif  16 <=idade < 18 or idade > 65:\n",
        "    return print(f'Sua idade é {idade} anos, portanto o voto é OPCIONAL.')\n",
        "  else:\n",
        "    return print(f'Sua idade é {idade} anos, seu voto é OBRIGATÓRIO.')\n",
        "print('  <<<<<< Descubra se você é obrigado a votar >>>>>>')\n",
        "id = int(input('Digite o ano de seu nascimento: '))\n",
        "voto(id)\n"
      ],
      "execution_count": null,
      "outputs": [
        {
          "output_type": "stream",
          "text": [
            "====== Exercício 101 ======\n",
            "  <<<<<< Descubra se você é obrigado a votar >>>>>>\n",
            "Digite o ano de seu nascimento: 2004\n",
            "Sua idade é 17 anos, portanto o voto é OPCIONAL.\n"
          ],
          "name": "stdout"
        }
      ]
    },
    {
      "cell_type": "code",
      "metadata": {
        "id": "12KvHClqXI2g",
        "colab": {
          "base_uri": "https://localhost:8080/"
        },
        "outputId": "e9d63a8d-317e-4e21-ace6-b3f36c41f8df"
      },
      "source": [
        "print('====== Exercício 102 ======')\n",
        "def fatorial(n, show=False):\n",
        "  f = 1\n",
        "  for c in range(n, 0, -1):\n",
        "    if show:\n",
        "      print(c, end='')\n",
        "      if c > 1:\n",
        "        print(' x ',end='')\n",
        "      else:\n",
        "        print(' = ',end='')  \n",
        "    f *=  c\n",
        "  return f\n",
        "num = int(input('Digite um número para saber seu fatorial: '))\n",
        "op = str(input('Deseja ver o calculo? [S/N] ')).upper()[0]\n",
        "if op not in 'SN':\n",
        "  op = str(input('ERRO! Digite S para sim ou N para não: ')).upper()[0]\n",
        "if op == 'S':\n",
        "  print(f'{num}! = ',end='')\n",
        "  print(fatorial(num, show=True))\n",
        "else:\n",
        "  print(f'{num}! = ',end='')\n",
        "  print(fatorial(num))\n"
      ],
      "execution_count": null,
      "outputs": [
        {
          "output_type": "stream",
          "text": [
            "====== Exercício 102 ======\n",
            "Digite um número para saber seu fatorial: 5\n",
            "Deseja ver o calculo? [S/N] a\n",
            "ERRO! Digite S para sim ou N para não: s\n",
            "5! = 5 x 4 x 3 x 2 x 1 = 120\n"
          ],
          "name": "stdout"
        }
      ]
    },
    {
      "cell_type": "code",
      "metadata": {
        "id": "n8WZAQXINEgo",
        "colab": {
          "base_uri": "https://localhost:8080/"
        },
        "outputId": "175e0917-07d0-4ceb-b051-5f103718f786"
      },
      "source": [
        "print('====== Exercício 103 ======')\n",
        "def ficha(jogador=\"<<desconhecido>>\", gol = 0):\n",
        "    return print(f'O jogador {jogador} fez {gol}(s) no campeonato. ')   \n",
        "n = str(input('Nome do jogador: '))\n",
        "g = str(input('Número de gols: '))\n",
        "if g.isnumeric(): # Usado para descobrir se o valor é um número ou não\n",
        "  g = int(g)\n",
        "else:\n",
        "  g = 0 \n",
        "if n.strip() =='':\n",
        "  ficha(gol=g)\n",
        "else:\n",
        "  ficha(n, g)\n",
        "          "
      ],
      "execution_count": null,
      "outputs": [
        {
          "output_type": "stream",
          "text": [
            "====== Exercício 103 ======\n",
            "Nome do jogador: \n",
            "Número de gols: \n",
            "O jogador <<desconhecido>> fez 0(s) no campeonato. \n"
          ],
          "name": "stdout"
        }
      ]
    },
    {
      "cell_type": "code",
      "metadata": {
        "colab": {
          "base_uri": "https://localhost:8080/"
        },
        "id": "0VPO69EMOa0L",
        "outputId": "46e16bb9-0829-4837-b5de-596fd6c04be3"
      },
      "source": [
        "print('====== Exercício 104 ======')\n",
        "def leiaint(msg):\n",
        "  ok = False\n",
        "  valor = 0\n",
        "  while True:\n",
        "    n = str(input(msg))\n",
        "    if n.isnumeric():\n",
        "      valor = int(n)\n",
        "      ok = True\n",
        "    else:\n",
        "      print('\\033[0;31mERRO! Digite um número inteiro válido:\\033[m')  \n",
        "    if ok:\n",
        "      break\n",
        "  return valor      \n",
        "n = leiaint('Digite um número: ')\n",
        "print(f'Você acabou de digitar o número {n}')\n"
      ],
      "execution_count": null,
      "outputs": [
        {
          "output_type": "stream",
          "text": [
            "====== Exercício 104 ======\n",
            "Digite um número: sete\n",
            "\u001b[0;31mERRO! Digite um número inteiro válido:\u001b[m\n",
            "Digite um número: 7\n",
            "Você acabou de digitar o número 7\n"
          ],
          "name": "stdout"
        }
      ]
    },
    {
      "cell_type": "code",
      "metadata": {
        "colab": {
          "base_uri": "https://localhost:8080/"
        },
        "id": "4dHfIC5bv_kr",
        "outputId": "d948baaf-509a-44ae-b1f1-11213ef90d3a"
      },
      "source": [
        "print('====== Exercício 105 ======')\n",
        "def notas(n, sit=False):\n",
        "  r = dict()\n",
        "  r['total'] = len(n)\n",
        "  r['maior'] = max(n)\n",
        "  r['menor'] = min(n)\n",
        "  r['media'] = sum(n) / len(n)\n",
        "  if sit:\n",
        "    if r['media'] >= 7:\n",
        "      r['situação'] = 'boa'\n",
        "    elif r['media'] > 5:\n",
        "      r['situação'] ='razoável'\n",
        "    else:\n",
        "      r['situação'] = 'ruim'\n",
        "    for k, v in r.items():\n",
        "      print(f'{k} = {v}')\n",
        "  else:\n",
        "    for k, v in r.items():\n",
        "      print(f'{k} = {v}')    \n",
        "  return r\n",
        "#programa principal\n",
        "print('Notas dos alunos')\n",
        "ope = int(input('Quantas notas pretende digitar? '))\n",
        "tot = 0\n",
        "resp = list()\n",
        "while tot < ope:\n",
        "  nota = float(input('Digite a nota: '))\n",
        "  resp.append(nota)\n",
        "  tot += 1\n",
        "print('-='* 20)  \n",
        "print(f'As notas digitadas foram {resp}')\n",
        "s = str(input('Deseja saber a situação do aluno? [S/N] ')).upper()[0]\n",
        "if s == 'S':\n",
        "  notas(resp, sit=True)\n",
        "else: \n",
        "  notas(resp, sit=False)\n"
      ],
      "execution_count": null,
      "outputs": [
        {
          "output_type": "stream",
          "text": [
            "====== Exercício 105 ======\n",
            "Notas dos alunos\n",
            "Quantas notas pretende digitar? 2\n",
            "Digite a nota: 3\n",
            "Digite a nota: 6\n",
            "-=-=-=-=-=-=-=-=-=-=-=-=-=-=-=-=-=-=-=-=\n",
            "As notas digitadas foram [3.0, 6.0]\n",
            "Deseja saber a situação do aluno? [S/N] n\n",
            "total = 2\n",
            "maior = 6.0\n",
            "menor = 3.0\n",
            "media = 4.5\n"
          ],
          "name": "stdout"
        }
      ]
    },
    {
      "cell_type": "code",
      "metadata": {
        "colab": {
          "base_uri": "https://localhost:8080/"
        },
        "id": "xO6ot4bunEKt",
        "outputId": "25925de4-134e-48a8-f6bb-93e93a2b6d7d"
      },
      "source": [
        "print('====== Exercício 106 ======')\n",
        "c = ('\\033[m','\\033[0;30;41m','\\033[0;30;42m', '\\033[7;30m', '\\033[0;30;45m');\n",
        "def ajuda(com):\n",
        "  título(f'Acessando o manual do comando \\'{com}\\'', 4)\n",
        "  print(c[4], end='')\n",
        "  help(com)\n",
        "  print(c[0], end='')\n",
        "def título(msg, cor=0):\n",
        "  tam = len(msg)\n",
        "  print(c[cor], end='')\n",
        "  print('~~'* tam)\n",
        "  print(f' {msg}')\n",
        "  print('~~'* tam)\n",
        "  print(c[0], end='')\n",
        "# Programa Principal\n",
        "comando = ''\n",
        "while True:\n",
        "  título('SISTEMA DE AJUDA PyHELP', 2)\n",
        "  comando = str(input('Função ou Biblioteca: > '))\n",
        "  if comando.upper() == 'FIM':\n",
        "      break\n",
        "  else:\n",
        "    ajuda(comando)    \n",
        "título('ATÉ LOGO!', 1)\n"
      ],
      "execution_count": null,
      "outputs": [
        {
          "output_type": "stream",
          "text": [
            "====== Exercício 106 ======\n",
            "\u001b[0;30;42m~~~~~~~~~~~~~~~~~~~~~~~~~~~~~~~~~~~~~~~~~~~~~~\n",
            " SISTEMA DE AJUDA PyHELP\n",
            "~~~~~~~~~~~~~~~~~~~~~~~~~~~~~~~~~~~~~~~~~~~~~~\n",
            "\u001b[mFunção ou Biblioteca: > len\n",
            "\u001b[0;30;45m~~~~~~~~~~~~~~~~~~~~~~~~~~~~~~~~~~~~~~~~~~~~~~~~~~~~~~~~~~~~~~~~~~~~~~\n",
            " Acessando o manual do comando 'len'\n",
            "~~~~~~~~~~~~~~~~~~~~~~~~~~~~~~~~~~~~~~~~~~~~~~~~~~~~~~~~~~~~~~~~~~~~~~\n",
            "\u001b[m\u001b[0;30;45mHelp on built-in function len in module builtins:\n",
            "\n",
            "len(obj, /)\n",
            "    Return the number of items in a container.\n",
            "\n",
            "\u001b[m\u001b[0;30;42m~~~~~~~~~~~~~~~~~~~~~~~~~~~~~~~~~~~~~~~~~~~~~~\n",
            " SISTEMA DE AJUDA PyHELP\n",
            "~~~~~~~~~~~~~~~~~~~~~~~~~~~~~~~~~~~~~~~~~~~~~~\n",
            "\u001b[mFunção ou Biblioteca: > fim\n",
            "\u001b[0;30;41m~~~~~~~~~~~~~~~~~~\n",
            " ATÉ LOGO!\n",
            "~~~~~~~~~~~~~~~~~~\n",
            "\u001b[m"
          ],
          "name": "stdout"
        }
      ]
    }
  ]
}